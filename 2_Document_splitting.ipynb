{
 "cells": [
  {
   "cell_type": "code",
   "execution_count": 1,
   "id": "36d2d6a1-75c0-4c00-86c2-e7208ef14d32",
   "metadata": {},
   "outputs": [],
   "source": [
    "import os\n",
    "import openai\n",
    "import sys\n",
    "\n",
    "openai.api_key = \"sk-proj-B4fsYjOG4RM3LT15ig1hT3BlbkFJoTg40k62UTmoIP24MqeK\""
   ]
  },
  {
   "cell_type": "code",
   "execution_count": 2,
   "id": "4d70f532-35dc-4bab-828b-e977c8f78b0a",
   "metadata": {},
   "outputs": [],
   "source": [
    "from langchain.text_splitter import RecursiveCharacterTextSplitter, CharacterTextSplitter"
   ]
  },
  {
   "cell_type": "code",
   "execution_count": 3,
   "id": "30e81be9-c4c3-447f-b5de-9c570bbe3540",
   "metadata": {},
   "outputs": [],
   "source": [
    "chunk_size = 26\n",
    "chunk_overlap = 4"
   ]
  },
  {
   "cell_type": "code",
   "execution_count": 4,
   "id": "6f3721b2-19f7-4cb4-9a19-57cd31d35857",
   "metadata": {},
   "outputs": [],
   "source": [
    "r_splitter = RecursiveCharacterTextSplitter(\n",
    "    chunk_size = chunk_size, \n",
    "    chunk_overlap = chunk_overlap\n",
    ")\n",
    "\n",
    "c_splitter = CharacterTextSplitter(\n",
    "    chunk_size = chunk_size,\n",
    "    chunk_overlap = chunk_overlap\n",
    ")"
   ]
  },
  {
   "cell_type": "code",
   "execution_count": 5,
   "id": "e39c1574-cdeb-42e9-8e5b-0c9edb3d7e08",
   "metadata": {},
   "outputs": [],
   "source": [
    "text1 = 'abcdefghijklmnopqrstuvwxyz'"
   ]
  },
  {
   "cell_type": "code",
   "execution_count": 6,
   "id": "05d13dba-fa23-492e-b5de-ca400a0792c7",
   "metadata": {},
   "outputs": [
    {
     "data": {
      "text/plain": [
       "['abcdefghijklmnopqrstuvwxyz']"
      ]
     },
     "execution_count": 6,
     "metadata": {},
     "output_type": "execute_result"
    }
   ],
   "source": [
    "r_splitter.split_text(text1)"
   ]
  },
  {
   "cell_type": "code",
   "execution_count": 18,
   "id": "ce8bad28-1be3-45dc-a4d1-7104746c803c",
   "metadata": {},
   "outputs": [],
   "source": [
    "text2 = 'abcdefghijklmnopqrstuvwxyzabcde fg'"
   ]
  },
  {
   "cell_type": "code",
   "execution_count": 8,
   "id": "154e3e14-01b0-44d0-bc3b-e874d8c22b63",
   "metadata": {},
   "outputs": [
    {
     "data": {
      "text/plain": [
       "['abcdefghijklmnopqrstuvwxyz', 'wxyzabcdefg']"
      ]
     },
     "execution_count": 8,
     "metadata": {},
     "output_type": "execute_result"
    }
   ],
   "source": [
    "r_splitter.split_text(text2)"
   ]
  },
  {
   "cell_type": "code",
   "execution_count": 9,
   "id": "e79a0d2e-52cc-4e15-b76c-012aa0ed08fa",
   "metadata": {},
   "outputs": [],
   "source": [
    "text3 = \"a b c d e f g h i j k l m n o p q r s t u v w x y z\""
   ]
  },
  {
   "cell_type": "code",
   "execution_count": 10,
   "id": "2dc03c72-7f66-4f04-a068-f6c373aa57d9",
   "metadata": {},
   "outputs": [
    {
     "data": {
      "text/plain": [
       "['a b c d e f g h i j k l m', 'l m n o p q r s t u v w x', 'w x y z']"
      ]
     },
     "execution_count": 10,
     "metadata": {},
     "output_type": "execute_result"
    }
   ],
   "source": [
    "r_splitter.split_text(text3)"
   ]
  },
  {
   "cell_type": "code",
   "execution_count": 11,
   "id": "022f1ddf-628f-4c5d-9116-7a3277aec2c5",
   "metadata": {},
   "outputs": [
    {
     "data": {
      "text/plain": [
       "['a b c d e f g h i j k l m n o p q r s t u v w x y z']"
      ]
     },
     "execution_count": 11,
     "metadata": {},
     "output_type": "execute_result"
    }
   ],
   "source": [
    "c_splitter.split_text(text3)"
   ]
  },
  {
   "cell_type": "code",
   "execution_count": 12,
   "id": "fa8cb515-26c7-4c94-9a9a-7f80b628ac35",
   "metadata": {},
   "outputs": [
    {
     "data": {
      "text/plain": [
       "['a b c d e f g h i j k l m', 'l m n o p q r s t u v w x', 'w x y z']"
      ]
     },
     "execution_count": 12,
     "metadata": {},
     "output_type": "execute_result"
    }
   ],
   "source": [
    "c_splitter = CharacterTextSplitter(\n",
    "    chunk_size = chunk_size,\n",
    "    chunk_overlap = chunk_overlap,\n",
    "    separator = ' '\n",
    ")\n",
    "c_splitter.split_text(text3)"
   ]
  },
  {
   "cell_type": "code",
   "execution_count": 19,
   "id": "5abdc18b-0593-45d2-93b3-1472eaa2c64c",
   "metadata": {},
   "outputs": [
    {
     "name": "stderr",
     "output_type": "stream",
     "text": [
      "Created a chunk of size 31, which is longer than the specified 26\n"
     ]
    },
    {
     "data": {
      "text/plain": [
       "['abcdefghijklmnopqrstuvwxyzabcde', 'fg']"
      ]
     },
     "execution_count": 19,
     "metadata": {},
     "output_type": "execute_result"
    }
   ],
   "source": [
    "c_splitter.split_text(text2)"
   ]
  },
  {
   "cell_type": "code",
   "execution_count": 20,
   "id": "57de5a5e-9deb-439d-b55c-fef897491f6a",
   "metadata": {},
   "outputs": [],
   "source": [
    "some_text = \"\"\"When writing documents, writers will use document structure to group content. \\\n",
    "This can convey to the reader, which idea's are related. For example, closely related ideas \\\n",
    "are in sentances. Similar ideas are in paragraphs. Paragraphs form a document. \\n\\n  \\\n",
    "Paragraphs are often delimited with a carriage return or two carriage returns. \\\n",
    "Carriage returns are the \"backslash n\" you see embedded in this string. \\\n",
    "Sentences have a period at the end, but also, have a space.\\\n",
    "and words are separated by space.\"\"\""
   ]
  },
  {
   "cell_type": "code",
   "execution_count": 21,
   "id": "edb75f49-1e41-42b7-90dc-c796edcb4152",
   "metadata": {},
   "outputs": [
    {
     "data": {
      "text/plain": [
       "496"
      ]
     },
     "execution_count": 21,
     "metadata": {},
     "output_type": "execute_result"
    }
   ],
   "source": [
    "len(some_text)"
   ]
  },
  {
   "cell_type": "code",
   "execution_count": 22,
   "id": "e0a88881-805c-488b-b3f4-28299ac55e8d",
   "metadata": {},
   "outputs": [],
   "source": [
    "c_splitter = CharacterTextSplitter(\n",
    "    chunk_size = 450, \n",
    "    chunk_overlap = 0, \n",
    "    separator = ' '\n",
    ")\n",
    "\n",
    "r_splitter = RecursiveCharacterTextSplitter(\n",
    "    chunk_size = 450, \n",
    "    chunk_overlap = 0, \n",
    "    separators = [\"\\n\\n\", \"\\n\", \" \", \"\"]\n",
    ")"
   ]
  },
  {
   "cell_type": "code",
   "execution_count": 23,
   "id": "88703542-7882-488e-9a8c-3841b329ce51",
   "metadata": {},
   "outputs": [
    {
     "data": {
      "text/plain": [
       "['When writing documents, writers will use document structure to group content. This can convey to the reader, which idea\\'s are related. For example, closely related ideas are in sentances. Similar ideas are in paragraphs. Paragraphs form a document. \\n\\n Paragraphs are often delimited with a carriage return or two carriage returns. Carriage returns are the \"backslash n\" you see embedded in this string. Sentences have a period at the end, but also,',\n",
       " 'have a space.and words are separated by space.']"
      ]
     },
     "execution_count": 23,
     "metadata": {},
     "output_type": "execute_result"
    }
   ],
   "source": [
    "c_splitter.split_text(some_text)"
   ]
  },
  {
   "cell_type": "code",
   "execution_count": 24,
   "id": "2fcc3198-0593-460a-bf7a-3b8f610ed9c6",
   "metadata": {},
   "outputs": [
    {
     "data": {
      "text/plain": [
       "[\"When writing documents, writers will use document structure to group content. This can convey to the reader, which idea's are related. For example, closely related ideas are in sentances. Similar ideas are in paragraphs. Paragraphs form a document.\",\n",
       " 'Paragraphs are often delimited with a carriage return or two carriage returns. Carriage returns are the \"backslash n\" you see embedded in this string. Sentences have a period at the end, but also, have a space.and words are separated by space.']"
      ]
     },
     "execution_count": 24,
     "metadata": {},
     "output_type": "execute_result"
    }
   ],
   "source": [
    "r_splitter.split_text(some_text)"
   ]
  },
  {
   "cell_type": "code",
   "execution_count": 29,
   "id": "bf310ed7-8625-48c5-afb8-af1bc3f002b0",
   "metadata": {},
   "outputs": [
    {
     "data": {
      "text/plain": [
       "[\"When writing documents, writers will use document structure to group content. This can convey to the reader, which idea's are related. For example,\",\n",
       " 'closely related ideas are in sentances. Similar ideas are in paragraphs. Paragraphs form a document.',\n",
       " 'Paragraphs are often delimited with a carriage return or two carriage returns. Carriage returns are the \"backslash n\" you see embedded in this',\n",
       " 'string. Sentences have a period at the end, but also, have a space.and words are separated by space.']"
      ]
     },
     "execution_count": 29,
     "metadata": {},
     "output_type": "execute_result"
    }
   ],
   "source": [
    "r_splitter = RecursiveCharacterTextSplitter(\n",
    "    chunk_size=150,\n",
    "    chunk_overlap=0,\n",
    "    separators=[\"\\n\\n\", \"\\n\", \"\\. \", \" \", \"\"]\n",
    ")\n",
    "r_splitter.split_text(some_text)"
   ]
  },
  {
   "cell_type": "code",
   "execution_count": 30,
   "id": "8077f9d8-53ca-434f-b0f4-d4b56fe76708",
   "metadata": {},
   "outputs": [
    {
     "data": {
      "text/plain": [
       "[\"When writing documents, writers will use document structure to group content. This can convey to the reader, which idea's are related. For example,\",\n",
       " 'closely related ideas are in sentances. Similar ideas are in paragraphs. Paragraphs form a document.',\n",
       " 'Paragraphs are often delimited with a carriage return or two carriage returns. Carriage returns are the \"backslash n\" you see embedded in this',\n",
       " 'string. Sentences have a period at the end, but also, have a space.and words are separated by space.']"
      ]
     },
     "execution_count": 30,
     "metadata": {},
     "output_type": "execute_result"
    }
   ],
   "source": [
    "r_splitter = RecursiveCharacterTextSplitter(\n",
    "    chunk_size=150,\n",
    "    chunk_overlap=0,\n",
    "    separators=[\"\\n\\n\", \"\\n\", \"(?<=\\. )\", \" \", \"\"]\n",
    ")\n",
    "r_splitter.split_text(some_text)"
   ]
  },
  {
   "cell_type": "code",
   "execution_count": 32,
   "id": "56f5192a-0a2a-4df3-ad60-1273ea1c37f8",
   "metadata": {},
   "outputs": [],
   "source": [
    "from langchain.document_loaders import PyPDFLoader\n",
    "loader = PyPDFLoader(\"MachineLearning-Lecture01.pdf\")\n",
    "pages = loader.load()"
   ]
  },
  {
   "cell_type": "code",
   "execution_count": 33,
   "id": "cc66204c-6e27-496e-aae9-db3838042d32",
   "metadata": {},
   "outputs": [],
   "source": [
    "from langchain.text_splitter import CharacterTextSplitter"
   ]
  },
  {
   "cell_type": "code",
   "execution_count": 34,
   "id": "ef1c15d7-ef20-4166-92b7-b11da38fe670",
   "metadata": {},
   "outputs": [],
   "source": [
    "text_splitter = CharacterTextSplitter(\n",
    "    separator=\"\\n\", \n",
    "    chunk_size = 1000, \n",
    "    chunk_overlap = 150, \n",
    "    length_function = len\n",
    ")"
   ]
  },
  {
   "cell_type": "code",
   "execution_count": 43,
   "id": "f3aeb52b-aaa4-46bf-be72-cb7bbdc819b6",
   "metadata": {},
   "outputs": [],
   "source": [
    "docs = text_splitter.split_documents(pages)"
   ]
  },
  {
   "cell_type": "code",
   "execution_count": 44,
   "id": "e7da28b3-24b9-4ff1-a83e-748f7047a228",
   "metadata": {},
   "outputs": [
    {
     "data": {
      "text/plain": [
       "77"
      ]
     },
     "execution_count": 44,
     "metadata": {},
     "output_type": "execute_result"
    }
   ],
   "source": [
    "len(docs)"
   ]
  },
  {
   "cell_type": "code",
   "execution_count": 41,
   "id": "d260f22c-9484-4a88-bf15-174acaaa1d52",
   "metadata": {},
   "outputs": [
    {
     "data": {
      "text/plain": [
       "22"
      ]
     },
     "execution_count": 41,
     "metadata": {},
     "output_type": "execute_result"
    }
   ],
   "source": [
    "len(pages)"
   ]
  },
  {
   "cell_type": "code",
   "execution_count": 45,
   "id": "f8b7abd5-a7ed-4962-afa0-5bdea52612c1",
   "metadata": {},
   "outputs": [],
   "source": [
    "from langchain.document_loaders import NotionDirectoryLoader\n",
    "loader = NotionDirectoryLoader(\"docs\")\n",
    "notion_DB = loader.load()"
   ]
  },
  {
   "cell_type": "code",
   "execution_count": 49,
   "id": "b44470d6-f5c8-4f28-ba20-36b30aef844e",
   "metadata": {},
   "outputs": [
    {
     "data": {
      "text/plain": [
       "1"
      ]
     },
     "execution_count": 49,
     "metadata": {},
     "output_type": "execute_result"
    }
   ],
   "source": [
    "len(notion_DB)"
   ]
  },
  {
   "cell_type": "code",
   "execution_count": 47,
   "id": "570e8a14-cc60-47d9-b3f1-ceb31e4ba893",
   "metadata": {},
   "outputs": [
    {
     "data": {
      "text/plain": [
       "77"
      ]
     },
     "execution_count": 47,
     "metadata": {},
     "output_type": "execute_result"
    }
   ],
   "source": [
    "len(docs)"
   ]
  },
  {
   "cell_type": "code",
   "execution_count": 50,
   "id": "a00284fc-9c5e-4c44-8e7d-b3ef57590233",
   "metadata": {},
   "outputs": [],
   "source": [
    "from langchain.text_splitter import TokenTextSplitter"
   ]
  },
  {
   "cell_type": "code",
   "execution_count": 52,
   "id": "47a29051-9866-4612-b86e-08e7f5caf310",
   "metadata": {},
   "outputs": [],
   "source": [
    "text_splitter = TokenTextSplitter(\n",
    "    chunk_size = 1, \n",
    "    chunk_overlap = 0\n",
    ")"
   ]
  },
  {
   "cell_type": "code",
   "execution_count": 53,
   "id": "61f68861-e74f-4cc5-a1eb-d81a2a33a320",
   "metadata": {},
   "outputs": [],
   "source": [
    "text1 = \"Pei Ma is my honey dog\""
   ]
  },
  {
   "cell_type": "code",
   "execution_count": 54,
   "id": "dba0b34f-471d-43c9-b951-98ab2d8c0950",
   "metadata": {},
   "outputs": [
    {
     "data": {
      "text/plain": [
       "['Pe', 'i', ' Ma', ' is', ' my', ' honey', ' dog']"
      ]
     },
     "execution_count": 54,
     "metadata": {},
     "output_type": "execute_result"
    }
   ],
   "source": [
    "text_splitter.split_text(text1)"
   ]
  },
  {
   "cell_type": "code",
   "execution_count": 67,
   "id": "9fc61a5b-8a92-458b-8756-c2a64e750b71",
   "metadata": {},
   "outputs": [],
   "source": [
    "text_splitter = TokenTextSplitter(\n",
    "    chunk_size = 10, \n",
    "    chunk_overlap = 0\n",
    ")"
   ]
  },
  {
   "cell_type": "code",
   "execution_count": 68,
   "id": "b6b75182-5bf9-49af-ac42-d847fe496de9",
   "metadata": {},
   "outputs": [
    {
     "data": {
      "text/plain": [
       "['Pei Ma is my honey dog']"
      ]
     },
     "execution_count": 68,
     "metadata": {},
     "output_type": "execute_result"
    }
   ],
   "source": [
    "text_splitter.split_text(text1)"
   ]
  },
  {
   "cell_type": "code",
   "execution_count": 69,
   "id": "ec76b569-4d3a-44fe-a11f-9acbc0f4bcb8",
   "metadata": {},
   "outputs": [
    {
     "data": {
      "text/plain": [
       "22"
      ]
     },
     "execution_count": 69,
     "metadata": {},
     "output_type": "execute_result"
    }
   ],
   "source": [
    "len(pages)"
   ]
  },
  {
   "cell_type": "code",
   "execution_count": null,
   "id": "0a703de7-9044-4e89-ba89-95b286aa173e",
   "metadata": {},
   "outputs": [],
   "source": []
  },
  {
   "cell_type": "code",
   "execution_count": 70,
   "id": "eb32eca4-dd8c-4d85-9b61-1a7449e28c16",
   "metadata": {},
   "outputs": [],
   "source": [
    "docs = text_splitter.split_documents(pages)"
   ]
  },
  {
   "cell_type": "code",
   "execution_count": 71,
   "id": "5c15a4bd-e6d7-40b8-978a-89453fd40e93",
   "metadata": {
    "scrolled": true
   },
   "outputs": [
    {
     "data": {
      "text/plain": [
       "[Document(page_content='MachineLearning-Lecture01  \\n', metadata={'source': 'MachineLearning-Lecture01.pdf', 'page': 0}),\n",
       " Document(page_content='Instructor (Andrew Ng):  Okay. Good', metadata={'source': 'MachineLearning-Lecture01.pdf', 'page': 0}),\n",
       " Document(page_content=' morning. Welcome to CS229, the machine ', metadata={'source': 'MachineLearning-Lecture01.pdf', 'page': 0}),\n",
       " Document(page_content='\\nlearning class. So what I wanna do today', metadata={'source': 'MachineLearning-Lecture01.pdf', 'page': 0}),\n",
       " Document(page_content=' is ju st spend a little time going over the', metadata={'source': 'MachineLearning-Lecture01.pdf', 'page': 0}),\n",
       " Document(page_content=' logistics \\nof the class, and then we', metadata={'source': 'MachineLearning-Lecture01.pdf', 'page': 0}),\n",
       " Document(page_content=\"'ll start to  talk a bit about machine learning\", metadata={'source': 'MachineLearning-Lecture01.pdf', 'page': 0}),\n",
       " Document(page_content='.  \\nBy way of introduction, my', metadata={'source': 'MachineLearning-Lecture01.pdf', 'page': 0}),\n",
       " Document(page_content=\" name's  Andrew Ng and I'll be inst\", metadata={'source': 'MachineLearning-Lecture01.pdf', 'page': 0}),\n",
       " Document(page_content='ru ctor for this class. And so ', metadata={'source': 'MachineLearning-Lecture01.pdf', 'page': 0}),\n",
       " Document(page_content='\\nI personally work in machine learning, and I', metadata={'source': 'MachineLearning-Lecture01.pdf', 'page': 0}),\n",
       " Document(page_content=\"' ve worked on it for about 15 years now\", metadata={'source': 'MachineLearning-Lecture01.pdf', 'page': 0}),\n",
       " Document(page_content=', and \\nI actually think that machine learning', metadata={'source': 'MachineLearning-Lecture01.pdf', 'page': 0}),\n",
       " Document(page_content=' is th e most exciting field of all the computer', metadata={'source': 'MachineLearning-Lecture01.pdf', 'page': 0}),\n",
       " Document(page_content=\" \\nsciences. So I'm actually always\", metadata={'source': 'MachineLearning-Lecture01.pdf', 'page': 0}),\n",
       " Document(page_content=' excited about  teaching this class. Sometimes I actually', metadata={'source': 'MachineLearning-Lecture01.pdf', 'page': 0}),\n",
       " Document(page_content=' \\nthink that machine learning is not only the', metadata={'source': 'MachineLearning-Lecture01.pdf', 'page': 0}),\n",
       " Document(page_content=' most exciting thin g in computer science, but ', metadata={'source': 'MachineLearning-Lecture01.pdf', 'page': 0}),\n",
       " Document(page_content='\\nthe most exciting thing in all of human e', metadata={'source': 'MachineLearning-Lecture01.pdf', 'page': 0}),\n",
       " Document(page_content=' ndeavor, so maybe a little bias there', metadata={'source': 'MachineLearning-Lecture01.pdf', 'page': 0}),\n",
       " Document(page_content='.  \\nI also want to introduce the', metadata={'source': 'MachineLearning-Lecture01.pdf', 'page': 0}),\n",
       " Document(page_content=' TAs, who are all graduate students doing research', metadata={'source': 'MachineLearning-Lecture01.pdf', 'page': 0}),\n",
       " Document(page_content=' in or \\nrelated to the machine learni', metadata={'source': 'MachineLearning-Lecture01.pdf', 'page': 0}),\n",
       " Document(page_content=' ng and all aspects of machin e learning.', metadata={'source': 'MachineLearning-Lecture01.pdf', 'page': 0}),\n",
       " Document(page_content=' Paul Baumstarck \\nworks in machine', metadata={'source': 'MachineLearning-Lecture01.pdf', 'page': 0}),\n",
       " Document(page_content=' learning and computer vision.  Catie Chang is', metadata={'source': 'MachineLearning-Lecture01.pdf', 'page': 0}),\n",
       " Document(page_content=' actually a neuroscientist \\nwho applies machine', metadata={'source': 'MachineLearning-Lecture01.pdf', 'page': 0}),\n",
       " Document(page_content=' learning algorithms to try to understand the human brain.', metadata={'source': 'MachineLearning-Lecture01.pdf', 'page': 0}),\n",
       " Document(page_content=' Tom Do \\nis another PhD student, works', metadata={'source': 'MachineLearning-Lecture01.pdf', 'page': 0}),\n",
       " Document(page_content=' in computa tional biology and in sort of', metadata={'source': 'MachineLearning-Lecture01.pdf', 'page': 0}),\n",
       " Document(page_content=' the basic \\nfundamentals of human learning', metadata={'source': 'MachineLearning-Lecture01.pdf', 'page': 0}),\n",
       " Document(page_content='. Zico Kolter is  the head TA', metadata={'source': 'MachineLearning-Lecture01.pdf', 'page': 0}),\n",
       " Document(page_content=\" — he's head TA two years \\nin\", metadata={'source': 'MachineLearning-Lecture01.pdf', 'page': 0}),\n",
       " Document(page_content=' a row now — works in machine learning a n', metadata={'source': 'MachineLearning-Lecture01.pdf', 'page': 0}),\n",
       " Document(page_content='d applies them to a bunch of robots. And', metadata={'source': 'MachineLearning-Lecture01.pdf', 'page': 0}),\n",
       " Document(page_content=' \\nDaniel Ramage is — I guess he', metadata={'source': 'MachineLearning-Lecture01.pdf', 'page': 0}),\n",
       " Document(page_content=\"'s not here  — Daniel applies l earning algorithms\", metadata={'source': 'MachineLearning-Lecture01.pdf', 'page': 0}),\n",
       " Document(page_content=' to \\nproblems in natural language processing.', metadata={'source': 'MachineLearning-Lecture01.pdf', 'page': 0}),\n",
       " Document(page_content=\"  \\nSo you'll get to know the\", metadata={'source': 'MachineLearning-Lecture01.pdf', 'page': 0}),\n",
       " Document(page_content=' TAs and me much be tter throughout this', metadata={'source': 'MachineLearning-Lecture01.pdf', 'page': 0}),\n",
       " Document(page_content=' quarter, but just from \\nthe sorts of', metadata={'source': 'MachineLearning-Lecture01.pdf', 'page': 0}),\n",
       " Document(page_content=\" things the TA's do, I hope you can\", metadata={'source': 'MachineLearning-Lecture01.pdf', 'page': 0}),\n",
       " Document(page_content='  already tell that machine learning is a \\n', metadata={'source': 'MachineLearning-Lecture01.pdf', 'page': 0}),\n",
       " Document(page_content='highly interdisciplinary topic in which just the TAs', metadata={'source': 'MachineLearning-Lecture01.pdf', 'page': 0}),\n",
       " Document(page_content=' find l earning algorithms to problems \\nin computer', metadata={'source': 'MachineLearning-Lecture01.pdf', 'page': 0}),\n",
       " Document(page_content=' vision and biology and robots a nd language.', metadata={'source': 'MachineLearning-Lecture01.pdf', 'page': 0}),\n",
       " Document(page_content=' And machine learning is one of \\nthose things', metadata={'source': 'MachineLearning-Lecture01.pdf', 'page': 0}),\n",
       " Document(page_content=' that has and is having a large impact on many', metadata={'source': 'MachineLearning-Lecture01.pdf', 'page': 0}),\n",
       " Document(page_content=' applications.  \\nSo just in my own', metadata={'source': 'MachineLearning-Lecture01.pdf', 'page': 0}),\n",
       " Document(page_content=' daily work, I actually frequently end up talking to', metadata={'source': 'MachineLearning-Lecture01.pdf', 'page': 0}),\n",
       " Document(page_content=' people like \\nhelicopter pilots to biologists', metadata={'source': 'MachineLearning-Lecture01.pdf', 'page': 0}),\n",
       " Document(page_content=' to people in  computer systems or databases to economists', metadata={'source': 'MachineLearning-Lecture01.pdf', 'page': 0}),\n",
       " Document(page_content=' \\nand sort of also an unending stream', metadata={'source': 'MachineLearning-Lecture01.pdf', 'page': 0}),\n",
       " Document(page_content=' of  people from industry coming to Stanford \\n', metadata={'source': 'MachineLearning-Lecture01.pdf', 'page': 0}),\n",
       " Document(page_content='interested in applying machine learni ng methods to their', metadata={'source': 'MachineLearning-Lecture01.pdf', 'page': 0}),\n",
       " Document(page_content=' own problems.  \\nSo yeah, this', metadata={'source': 'MachineLearning-Lecture01.pdf', 'page': 0}),\n",
       " Document(page_content=' is fun. A couple of weeks ago, a', metadata={'source': 'MachineLearning-Lecture01.pdf', 'page': 0}),\n",
       " Document(page_content=' student actually forwar ded to me an article ', metadata={'source': 'MachineLearning-Lecture01.pdf', 'page': 0}),\n",
       " Document(page_content='\\nin \"Computer World\" about the 12 IT', metadata={'source': 'MachineLearning-Lecture01.pdf', 'page': 0}),\n",
       " Document(page_content=\" skills th at employers can't say no to.\", metadata={'source': 'MachineLearning-Lecture01.pdf', 'page': 0}),\n",
       " Document(page_content=\" So it's about \\nsort of the 12\", metadata={'source': 'MachineLearning-Lecture01.pdf', 'page': 0}),\n",
       " Document(page_content=' most desirabl e skills in all of IT', metadata={'source': 'MachineLearning-Lecture01.pdf', 'page': 0}),\n",
       " Document(page_content=' and all of information technology, and \\nto', metadata={'source': 'MachineLearning-Lecture01.pdf', 'page': 0}),\n",
       " Document(page_content='pping the list was actually machine lear ning.', metadata={'source': 'MachineLearning-Lecture01.pdf', 'page': 0}),\n",
       " Document(page_content=' So I think this is a good time to be', metadata={'source': 'MachineLearning-Lecture01.pdf', 'page': 0}),\n",
       " Document(page_content=' \\nlearning this stuff and learning algorithms and having', metadata={'source': 'MachineLearning-Lecture01.pdf', 'page': 0}),\n",
       " Document(page_content=' a large impact on many segments \\nof science', metadata={'source': 'MachineLearning-Lecture01.pdf', 'page': 0}),\n",
       " Document(page_content=\" and industry.  \\nI'm actually curious\", metadata={'source': 'MachineLearning-Lecture01.pdf', 'page': 0}),\n",
       " Document(page_content=' about something. Learni ng algorithms is one of', metadata={'source': 'MachineLearning-Lecture01.pdf', 'page': 0}),\n",
       " Document(page_content=' the things that \\ntouches many areas', metadata={'source': 'MachineLearning-Lecture01.pdf', 'page': 0}),\n",
       " Document(page_content=\" of science and industrie s, and I'm\", metadata={'source': 'MachineLearning-Lecture01.pdf', 'page': 0}),\n",
       " Document(page_content=' just kind of curious. How many \\npeople', metadata={'source': 'MachineLearning-Lecture01.pdf', 'page': 0}),\n",
       " Document(page_content=' here are computer science majors, are in the computer', metadata={'source': 'MachineLearning-Lecture01.pdf', 'page': 0}),\n",
       " Document(page_content=' science department? Okay. \\nAbout half of', metadata={'source': 'MachineLearning-Lecture01.pdf', 'page': 0}),\n",
       " Document(page_content=' you. How many people are from  EE?', metadata={'source': 'MachineLearning-Lecture01.pdf', 'page': 0}),\n",
       " Document(page_content=' Oh, okay, maybe about a fifth. How', metadata={'source': 'MachineLearning-Lecture01.pdf', 'page': 0}),\n",
       " Document(page_content=' ', metadata={'source': 'MachineLearning-Lecture01.pdf', 'page': 0}),\n",
       " Document(page_content='many biologers are there here? Wow,', metadata={'source': 'MachineLearning-Lecture01.pdf', 'page': 1}),\n",
       " Document(page_content=\" just a few, not many. I'm surprised\", metadata={'source': 'MachineLearning-Lecture01.pdf', 'page': 1}),\n",
       " Document(page_content='. Anyone from \\nstatistics? Okay,', metadata={'source': 'MachineLearning-Lecture01.pdf', 'page': 1}),\n",
       " Document(page_content=' a few. So where are the rest of you', metadata={'source': 'MachineLearning-Lecture01.pdf', 'page': 1}),\n",
       " Document(page_content=' from?  \\nStudent : iCME', metadata={'source': 'MachineLearning-Lecture01.pdf', 'page': 1}),\n",
       " Document(page_content='.  \\nInstructor (Andrew Ng)', metadata={'source': 'MachineLearning-Lecture01.pdf', 'page': 1}),\n",
       " Document(page_content=' : Say again?  \\nStudent : i', metadata={'source': 'MachineLearning-Lecture01.pdf', 'page': 1}),\n",
       " Document(page_content='CME.  \\nInstructor (Andrew', metadata={'source': 'MachineLearning-Lecture01.pdf', 'page': 1}),\n",
       " Document(page_content=' Ng) : iCME. Cool. ', metadata={'source': 'MachineLearning-Lecture01.pdf', 'page': 1}),\n",
       " Document(page_content=' \\nStudent : [Inaudible]. ', metadata={'source': 'MachineLearning-Lecture01.pdf', 'page': 1}),\n",
       " Document(page_content=' \\nInstructor (Andrew Ng) : Civ', metadata={'source': 'MachineLearning-Lecture01.pdf', 'page': 1}),\n",
       " Document(page_content='i and what else?  \\nStudent :', metadata={'source': 'MachineLearning-Lecture01.pdf', 'page': 1}),\n",
       " Document(page_content=' [Inaudible]  \\nInstructor', metadata={'source': 'MachineLearning-Lecture01.pdf', 'page': 1}),\n",
       " Document(page_content=' (Andrew Ng) : Synthesis, [ina', metadata={'source': 'MachineLearning-Lecture01.pdf', 'page': 1}),\n",
       " Document(page_content='udible] systems. Yeah, cool. ', metadata={'source': 'MachineLearning-Lecture01.pdf', 'page': 1}),\n",
       " Document(page_content=' \\nStudent : Chemi.  \\n', metadata={'source': 'MachineLearning-Lecture01.pdf', 'page': 1}),\n",
       " Document(page_content='Instructor (Andrew Ng) : Chemi.', metadata={'source': 'MachineLearning-Lecture01.pdf', 'page': 1}),\n",
       " Document(page_content=' Cool.  \\nStudent : [Inaud', metadata={'source': 'MachineLearning-Lecture01.pdf', 'page': 1}),\n",
       " Document(page_content='ible].  \\nInstructor (Andrew Ng', metadata={'source': 'MachineLearning-Lecture01.pdf', 'page': 1}),\n",
       " Document(page_content=') : Aero/astro. Yes, right', metadata={'source': 'MachineLearning-Lecture01.pdf', 'page': 1}),\n",
       " Document(page_content='. Yeah, okay, cool. Anyone else?', metadata={'source': 'MachineLearning-Lecture01.pdf', 'page': 1}),\n",
       " Document(page_content='  \\nStudent : [Inaudible].', metadata={'source': 'MachineLearning-Lecture01.pdf', 'page': 1}),\n",
       " Document(page_content='  \\nInstructor (Andrew Ng) :', metadata={'source': 'MachineLearning-Lecture01.pdf', 'page': 1}),\n",
       " Document(page_content=' Pardon? MSNE. All ri g', metadata={'source': 'MachineLearning-Lecture01.pdf', 'page': 1}),\n",
       " Document(page_content='ht. Cool. Yeah.  \\nStudent', metadata={'source': 'MachineLearning-Lecture01.pdf', 'page': 1}),\n",
       " Document(page_content=' : [Inaudible].  \\nInstruct', metadata={'source': 'MachineLearning-Lecture01.pdf', 'page': 1}),\n",
       " Document(page_content='or (Andrew Ng) : Pardon? ', metadata={'source': 'MachineLearning-Lecture01.pdf', 'page': 1}),\n",
       " Document(page_content=' \\nStudent : [Inaudible]. ', metadata={'source': 'MachineLearning-Lecture01.pdf', 'page': 1}),\n",
       " Document(page_content=' \\nInstructor (Andrew Ng) : End', metadata={'source': 'MachineLearning-Lecture01.pdf', 'page': 1}),\n",
       " Document(page_content='o —  \\nStudent : [Inaud', metadata={'source': 'MachineLearning-Lecture01.pdf', 'page': 1}),\n",
       " Document(page_content='ible].  \\nInstructor (Andrew Ng', metadata={'source': 'MachineLearning-Lecture01.pdf', 'page': 1}),\n",
       " Document(page_content=') : Oh, I see, industry. Okay', metadata={'source': 'MachineLearning-Lecture01.pdf', 'page': 1}),\n",
       " Document(page_content='. Cool. Great, great. So as you', metadata={'source': 'MachineLearning-Lecture01.pdf', 'page': 1}),\n",
       " Document(page_content=' can \\ntell from a cross-section of', metadata={'source': 'MachineLearning-Lecture01.pdf', 'page': 1}),\n",
       " Document(page_content=\" th is class, I think we're a very\", metadata={'source': 'MachineLearning-Lecture01.pdf', 'page': 1}),\n",
       " Document(page_content=' diverse audience in this room, \\nand that', metadata={'source': 'MachineLearning-Lecture01.pdf', 'page': 1}),\n",
       " Document(page_content=\"'s one of the things that makes this class fun\", metadata={'source': 'MachineLearning-Lecture01.pdf', 'page': 1}),\n",
       " Document(page_content=' to teach and fun to be in, I think', metadata={'source': 'MachineLearning-Lecture01.pdf', 'page': 1}),\n",
       " Document(page_content='.  ', metadata={'source': 'MachineLearning-Lecture01.pdf', 'page': 1}),\n",
       " Document(page_content=\"So in this class, we've tried to convey\", metadata={'source': 'MachineLearning-Lecture01.pdf', 'page': 2}),\n",
       " Document(page_content=' to you a broad set of principl es and', metadata={'source': 'MachineLearning-Lecture01.pdf', 'page': 2}),\n",
       " Document(page_content=' tools that will \\nbe useful for doing many', metadata={'source': 'MachineLearning-Lecture01.pdf', 'page': 2}),\n",
       " Document(page_content=', many things. And ev ery time I', metadata={'source': 'MachineLearning-Lecture01.pdf', 'page': 2}),\n",
       " Document(page_content=' teach this class, I can actually \\nvery', metadata={'source': 'MachineLearning-Lecture01.pdf', 'page': 2}),\n",
       " Document(page_content=' confidently say that af ter December, no matter what', metadata={'source': 'MachineLearning-Lecture01.pdf', 'page': 2}),\n",
       " Document(page_content=\" yo u're going to do after this \\n\", metadata={'source': 'MachineLearning-Lecture01.pdf', 'page': 2}),\n",
       " Document(page_content=\"December when you've sort of completed this  class\", metadata={'source': 'MachineLearning-Lecture01.pdf', 'page': 2}),\n",
       " Document(page_content=\", you'll find the things you learn in \", metadata={'source': 'MachineLearning-Lecture01.pdf', 'page': 2}),\n",
       " Document(page_content='\\nthis class very useful, and these things will', metadata={'source': 'MachineLearning-Lecture01.pdf', 'page': 2}),\n",
       " Document(page_content=' be useful pretty much no matter what you end ', metadata={'source': 'MachineLearning-Lecture01.pdf', 'page': 2}),\n",
       " Document(page_content='\\nup doing later in your life.  ', metadata={'source': 'MachineLearning-Lecture01.pdf', 'page': 2}),\n",
       " Document(page_content='\\nSo I have more logistics to go over later', metadata={'source': 'MachineLearning-Lecture01.pdf', 'page': 2}),\n",
       " Document(page_content=\", but let's say a few more words about\", metadata={'source': 'MachineLearning-Lecture01.pdf', 'page': 2}),\n",
       " Document(page_content=' machine \\nlearning. I feel that machine learning', metadata={'source': 'MachineLearning-Lecture01.pdf', 'page': 2}),\n",
       " Document(page_content=' grew out of  early work in AI, early', metadata={'source': 'MachineLearning-Lecture01.pdf', 'page': 2}),\n",
       " Document(page_content=' work in artificial \\nintelligence. And over the', metadata={'source': 'MachineLearning-Lecture01.pdf', 'page': 2}),\n",
       " Document(page_content=' last — I wanna say last 15 or last 20', metadata={'source': 'MachineLearning-Lecture01.pdf', 'page': 2}),\n",
       " Document(page_content=\" years or so, it's been viewed as a\", metadata={'source': 'MachineLearning-Lecture01.pdf', 'page': 2}),\n",
       " Document(page_content=' sort of growing new capability for computers. And in', metadata={'source': 'MachineLearning-Lecture01.pdf', 'page': 2}),\n",
       " Document(page_content=' particular, it turns out \\nthat there are', metadata={'source': 'MachineLearning-Lecture01.pdf', 'page': 2}),\n",
       " Document(page_content=' many programs or there are many applications that you can', metadata={'source': 'MachineLearning-Lecture01.pdf', 'page': 2}),\n",
       " Document(page_content=\"'t program by \\nhand.  \\n\", metadata={'source': 'MachineLearning-Lecture01.pdf', 'page': 2}),\n",
       " Document(page_content='For example, if you want to get a computer', metadata={'source': 'MachineLearning-Lecture01.pdf', 'page': 2}),\n",
       " Document(page_content=' to read handwritten characters, to read sort of ', metadata={'source': 'MachineLearning-Lecture01.pdf', 'page': 2}),\n",
       " Document(page_content='\\nhandwritten digits, that actual ly turns out', metadata={'source': 'MachineLearning-Lecture01.pdf', 'page': 2}),\n",
       " Document(page_content=' to be amazingly difficult to write a piece of ', metadata={'source': 'MachineLearning-Lecture01.pdf', 'page': 2}),\n",
       " Document(page_content='\\nsoftware to take this input, an image of', metadata={'source': 'MachineLearning-Lecture01.pdf', 'page': 2}),\n",
       " Document(page_content=' some thing that I wrote and to  figure out', metadata={'source': 'MachineLearning-Lecture01.pdf', 'page': 2}),\n",
       " Document(page_content=' just what \\nit is, to translate my', metadata={'source': 'MachineLearning-Lecture01.pdf', 'page': 2}),\n",
       " Document(page_content=' cursive handwriting into — to extract the characters I', metadata={'source': 'MachineLearning-Lecture01.pdf', 'page': 2}),\n",
       " Document(page_content=' wrote out in \\nlonghand. And', metadata={'source': 'MachineLearning-Lecture01.pdf', 'page': 2}),\n",
       " Document(page_content=' other things: One thing that my students and I', metadata={'source': 'MachineLearning-Lecture01.pdf', 'page': 2}),\n",
       " Document(page_content=' do is autonomous flight. It \\nturns', metadata={'source': 'MachineLearning-Lecture01.pdf', 'page': 2}),\n",
       " Document(page_content=' out to be extremely difficult to sit dow n and', metadata={'source': 'MachineLearning-Lecture01.pdf', 'page': 2}),\n",
       " Document(page_content=' write a program to  fly a helicopter. ', metadata={'source': 'MachineLearning-Lecture01.pdf', 'page': 2}),\n",
       " Document(page_content=' \\nBut in contrast, if you want to', metadata={'source': 'MachineLearning-Lecture01.pdf', 'page': 2}),\n",
       " Document(page_content=' do things like to get software to fl y a', metadata={'source': 'MachineLearning-Lecture01.pdf', 'page': 2}),\n",
       " Document(page_content=' helicopter or have \\nsoftware recognize handwritten digits,', metadata={'source': 'MachineLearning-Lecture01.pdf', 'page': 2}),\n",
       " Document(page_content=' one very  successful approach is to use a learning', metadata={'source': 'MachineLearning-Lecture01.pdf', 'page': 2}),\n",
       " Document(page_content=' \\nalgorithm and have a computer learn by', metadata={'source': 'MachineLearning-Lecture01.pdf', 'page': 2}),\n",
       " Document(page_content=' its elf how to, say, recognize your handwriting', metadata={'source': 'MachineLearning-Lecture01.pdf', 'page': 2}),\n",
       " Document(page_content='. \\nAnd in fact, handwritten digit recognition', metadata={'source': 'MachineLearning-Lecture01.pdf', 'page': 2}),\n",
       " Document(page_content=', this is pretty much the only approach that ', metadata={'source': 'MachineLearning-Lecture01.pdf', 'page': 2}),\n",
       " Document(page_content='\\nworks well. It uses applications that are hard', metadata={'source': 'MachineLearning-Lecture01.pdf', 'page': 2}),\n",
       " Document(page_content=' to program by hand.  \\nLearning algorithms', metadata={'source': 'MachineLearning-Lecture01.pdf', 'page': 2}),\n",
       " Document(page_content=' has also made I guess sign ificant in', metadata={'source': 'MachineLearning-Lecture01.pdf', 'page': 2}),\n",
       " Document(page_content=\"roads in what's sometimes called \\ndatabase mining\", metadata={'source': 'MachineLearning-Lecture01.pdf', 'page': 2}),\n",
       " Document(page_content='. So, for example, with the growth of', metadata={'source': 'MachineLearning-Lecture01.pdf', 'page': 2}),\n",
       " Document(page_content=' IT and computers, increasingly \\nmany hospitals are', metadata={'source': 'MachineLearning-Lecture01.pdf', 'page': 2}),\n",
       " Document(page_content=' keeping around medical reco rds of what sort', metadata={'source': 'MachineLearning-Lecture01.pdf', 'page': 2}),\n",
       " Document(page_content=' of patients, what \\nproblems they had', metadata={'source': 'MachineLearning-Lecture01.pdf', 'page': 2}),\n",
       " Document(page_content=', what their prognoses was,  what', metadata={'source': 'MachineLearning-Lecture01.pdf', 'page': 2}),\n",
       " Document(page_content=' the outcome was. And taking all of \\n', metadata={'source': 'MachineLearning-Lecture01.pdf', 'page': 2}),\n",
       " Document(page_content='these medical records, which started to be digitized', metadata={'source': 'MachineLearning-Lecture01.pdf', 'page': 2}),\n",
       " Document(page_content=' only about maybe 15 years, applying \\nlearning', metadata={'source': 'MachineLearning-Lecture01.pdf', 'page': 2}),\n",
       " Document(page_content=' algorithms to them can turn raw medi cal records into', metadata={'source': 'MachineLearning-Lecture01.pdf', 'page': 2}),\n",
       " Document(page_content=' what I might loosely call \\nmedical knowledge in', metadata={'source': 'MachineLearning-Lecture01.pdf', 'page': 2}),\n",
       " Document(page_content=' which we start to detect trends in medical practice and', metadata={'source': 'MachineLearning-Lecture01.pdf', 'page': 2}),\n",
       " Document(page_content=' even start to \\nalter medical practice as a', metadata={'source': 'MachineLearning-Lecture01.pdf', 'page': 2}),\n",
       " Document(page_content=\" result of me dical knowledge that's derived by\", metadata={'source': 'MachineLearning-Lecture01.pdf', 'page': 2}),\n",
       " Document(page_content=' applying \\nlearning algorithms to the sorts of medical', metadata={'source': 'MachineLearning-Lecture01.pdf', 'page': 2}),\n",
       " Document(page_content=' r ecords that hospitals have just been building ', metadata={'source': 'MachineLearning-Lecture01.pdf', 'page': 2}),\n",
       " Document(page_content='\\nover the last 15, 20 years in an', metadata={'source': 'MachineLearning-Lecture01.pdf', 'page': 2}),\n",
       " Document(page_content=' electronic format.  \\nTurns out that', metadata={'source': 'MachineLearning-Lecture01.pdf', 'page': 2}),\n",
       " Document(page_content=' most of you probably use learning algorithms — I don', metadata={'source': 'MachineLearning-Lecture01.pdf', 'page': 2}),\n",
       " Document(page_content=\"'t know — I think \\nhalf a dozen\", metadata={'source': 'MachineLearning-Lecture01.pdf', 'page': 2}),\n",
       " Document(page_content=' times a day or maybe a dozen  times a', metadata={'source': 'MachineLearning-Lecture01.pdf', 'page': 2}),\n",
       " Document(page_content=' day or more, and often without \\nknow', metadata={'source': 'MachineLearning-Lecture01.pdf', 'page': 2}),\n",
       " Document(page_content='ing it. So, for example, every time', metadata={'source': 'MachineLearning-Lecture01.pdf', 'page': 2}),\n",
       " Document(page_content=' you se nd mail via the US Postal System', metadata={'source': 'MachineLearning-Lecture01.pdf', 'page': 2}),\n",
       " Document(page_content=\", turns \\nout there's an algorithm that\", metadata={'source': 'MachineLearning-Lecture01.pdf', 'page': 2}),\n",
       " Document(page_content=' tries to automa tically read the zip code', metadata={'source': 'MachineLearning-Lecture01.pdf', 'page': 2}),\n",
       " Document(page_content=' you wrote on your \\nenvelope,', metadata={'source': 'MachineLearning-Lecture01.pdf', 'page': 2}),\n",
       " Document(page_content=\" and that's done by a learning al gorith\", metadata={'source': 'MachineLearning-Lecture01.pdf', 'page': 2}),\n",
       " Document(page_content='m. So every time you send US mail,', metadata={'source': 'MachineLearning-Lecture01.pdf', 'page': 2}),\n",
       " Document(page_content=' you \\nare using a learning algorithm, per', metadata={'source': 'MachineLearning-Lecture01.pdf', 'page': 2}),\n",
       " Document(page_content='hap s without even being aware of it. ', metadata={'source': 'MachineLearning-Lecture01.pdf', 'page': 2}),\n",
       " Document(page_content=' ', metadata={'source': 'MachineLearning-Lecture01.pdf', 'page': 2}),\n",
       " Document(page_content='Similarly, every time you write a check, I', metadata={'source': 'MachineLearning-Lecture01.pdf', 'page': 3}),\n",
       " Document(page_content=\" ac tually don't know the number for this\", metadata={'source': 'MachineLearning-Lecture01.pdf', 'page': 3}),\n",
       " Document(page_content=', but a \\nsignificant fraction of checks that', metadata={'source': 'MachineLearning-Lecture01.pdf', 'page': 3}),\n",
       " Document(page_content=\" you write are processed by a learning algorithm that's\", metadata={'source': 'MachineLearning-Lecture01.pdf', 'page': 3}),\n",
       " Document(page_content=' \\nlearned to read the digits, so', metadata={'source': 'MachineLearning-Lecture01.pdf', 'page': 3}),\n",
       " Document(page_content=' the dolla r amount that you wrote down on', metadata={'source': 'MachineLearning-Lecture01.pdf', 'page': 3}),\n",
       " Document(page_content=' your check. So \\nevery time you write', metadata={'source': 'MachineLearning-Lecture01.pdf', 'page': 3}),\n",
       " Document(page_content=\" a check, there's anot her learning algorithm\", metadata={'source': 'MachineLearning-Lecture01.pdf', 'page': 3}),\n",
       " Document(page_content=\" that you're probably \\nusing without even being\", metadata={'source': 'MachineLearning-Lecture01.pdf', 'page': 3}),\n",
       " Document(page_content=' aware of it.  \\nIf you use', metadata={'source': 'MachineLearning-Lecture01.pdf', 'page': 3}),\n",
       " Document(page_content=' a credit card, or I know at least one', metadata={'source': 'MachineLearning-Lecture01.pdf', 'page': 3}),\n",
       " Document(page_content=' phone compan y was doing this, and lots of', metadata={'source': 'MachineLearning-Lecture01.pdf', 'page': 3}),\n",
       " Document(page_content=' \\ncompanies like eBay as well that do', metadata={'source': 'MachineLearning-Lecture01.pdf', 'page': 3}),\n",
       " Document(page_content=\" electr onic transactions, there's a good chance\", metadata={'source': 'MachineLearning-Lecture01.pdf', 'page': 3}),\n",
       " Document(page_content=\" that \\nthere's a learning algorithm in the\", metadata={'source': 'MachineLearning-Lecture01.pdf', 'page': 3}),\n",
       " Document(page_content=' backgr ound trying to figure out if,', metadata={'source': 'MachineLearning-Lecture01.pdf', 'page': 3}),\n",
       " Document(page_content=\" say, your credit \\ncard's been stolen\", metadata={'source': 'MachineLearning-Lecture01.pdf', 'page': 3}),\n",
       " Document(page_content=\" or if someone's engaging in a fraudulent transaction.\", metadata={'source': 'MachineLearning-Lecture01.pdf', 'page': 3}),\n",
       " Document(page_content='  \\nIf you use a website like Amazon', metadata={'source': 'MachineLearning-Lecture01.pdf', 'page': 3}),\n",
       " Document(page_content=' or Netflix that will often recommend books for you to', metadata={'source': 'MachineLearning-Lecture01.pdf', 'page': 3}),\n",
       " Document(page_content=' \\nbuy or movies for you to rent or', metadata={'source': 'MachineLearning-Lecture01.pdf', 'page': 3}),\n",
       " Document(page_content=' whatever , these are other examples of learning \\n', metadata={'source': 'MachineLearning-Lecture01.pdf', 'page': 3}),\n",
       " Document(page_content='algorithms that have learned what sorts of th', metadata={'source': 'MachineLearning-Lecture01.pdf', 'page': 3}),\n",
       " Document(page_content=' ings you like to buy or what sorts of', metadata={'source': 'MachineLearning-Lecture01.pdf', 'page': 3}),\n",
       " Document(page_content=' movies \\nyou like to watch and can therefore', metadata={'source': 'MachineLearning-Lecture01.pdf', 'page': 3}),\n",
       " Document(page_content=' give  customized recommendations to you.  \\n', metadata={'source': 'MachineLearning-Lecture01.pdf', 'page': 3}),\n",
       " Document(page_content='Just about a week ago, I had my car', metadata={'source': 'MachineLearning-Lecture01.pdf', 'page': 3}),\n",
       " Document(page_content=' serviced, and even there, my car mechanic', metadata={'source': 'MachineLearning-Lecture01.pdf', 'page': 3}),\n",
       " Document(page_content=' was trying \\nto explain to me some learning', metadata={'source': 'MachineLearning-Lecture01.pdf', 'page': 3}),\n",
       " Document(page_content=' algorithm in th e innards of my car th', metadata={'source': 'MachineLearning-Lecture01.pdf', 'page': 3}),\n",
       " Document(page_content=\" at's sort of doing its \\nbest to\", metadata={'source': 'MachineLearning-Lecture01.pdf', 'page': 3}),\n",
       " Document(page_content=' optimize my driving performan ce for fuel efficiency or', metadata={'source': 'MachineLearning-Lecture01.pdf', 'page': 3}),\n",
       " Document(page_content=' something.  \\nSo, see, most', metadata={'source': 'MachineLearning-Lecture01.pdf', 'page': 3}),\n",
       " Document(page_content=' of us use learning algorithms half a dozen, a', metadata={'source': 'MachineLearning-Lecture01.pdf', 'page': 3}),\n",
       " Document(page_content=' dozen, maybe dozens of times \\nwithout even', metadata={'source': 'MachineLearning-Lecture01.pdf', 'page': 3}),\n",
       " Document(page_content=' knowing it.  \\nAnd of course,', metadata={'source': 'MachineLearning-Lecture01.pdf', 'page': 3}),\n",
       " Document(page_content=' learning algorithms are also  doing things like giving us', metadata={'source': 'MachineLearning-Lecture01.pdf', 'page': 3}),\n",
       " Document(page_content=' a growing \\nunderstanding of the human genome', metadata={'source': 'MachineLearning-Lecture01.pdf', 'page': 3}),\n",
       " Document(page_content='. So if so meday we ever find a', metadata={'source': 'MachineLearning-Lecture01.pdf', 'page': 3}),\n",
       " Document(page_content=' cure for cancer, I bet \\nlearning algorithms', metadata={'source': 'MachineLearning-Lecture01.pdf', 'page': 3}),\n",
       " Document(page_content=' will have had a large role in that. That', metadata={'source': 'MachineLearning-Lecture01.pdf', 'page': 3}),\n",
       " Document(page_content=\"'s sort of the thing that Tom \\nworks\", metadata={'source': 'MachineLearning-Lecture01.pdf', 'page': 3}),\n",
       " Document(page_content=' on, yes?  \\nSo in teaching', metadata={'source': 'MachineLearning-Lecture01.pdf', 'page': 3}),\n",
       " Document(page_content=' this class, I sort of have thre e', metadata={'source': 'MachineLearning-Lecture01.pdf', 'page': 3}),\n",
       " Document(page_content=' goals. One of them is just to I hope', metadata={'source': 'MachineLearning-Lecture01.pdf', 'page': 3}),\n",
       " Document(page_content=' convey \\nsome of my own excitement a bout', metadata={'source': 'MachineLearning-Lecture01.pdf', 'page': 3}),\n",
       " Document(page_content=' machine learning to you.  \\nThe second', metadata={'source': 'MachineLearning-Lecture01.pdf', 'page': 3}),\n",
       " Document(page_content=' goal is by the end of this class, I', metadata={'source': 'MachineLearning-Lecture01.pdf', 'page': 3}),\n",
       " Document(page_content=' hope all of you will be ab le to apply', metadata={'source': 'MachineLearning-Lecture01.pdf', 'page': 3}),\n",
       " Document(page_content=' state-of-\\nthe-art machine learning', metadata={'source': 'MachineLearning-Lecture01.pdf', 'page': 3}),\n",
       " Document(page_content=\" algorithms to whatev er problems you're interested\", metadata={'source': 'MachineLearning-Lecture01.pdf', 'page': 3}),\n",
       " Document(page_content=' in. And if you \\never need to', metadata={'source': 'MachineLearning-Lecture01.pdf', 'page': 3}),\n",
       " Document(page_content=' build a system for reading zi p codes,', metadata={'source': 'MachineLearning-Lecture01.pdf', 'page': 3}),\n",
       " Document(page_content=\" you'll know how to do that by the end\", metadata={'source': 'MachineLearning-Lecture01.pdf', 'page': 3}),\n",
       " Document(page_content=' \\nof this class.  \\nAnd', metadata={'source': 'MachineLearning-Lecture01.pdf', 'page': 3}),\n",
       " Document(page_content=' lastly, by the end of this class,', metadata={'source': 'MachineLearning-Lecture01.pdf', 'page': 3}),\n",
       " Document(page_content=' I reali ze that only a subset of ', metadata={'source': 'MachineLearning-Lecture01.pdf', 'page': 3}),\n",
       " Document(page_content=' you are interested in \\ndoing research in machine', metadata={'source': 'MachineLearning-Lecture01.pdf', 'page': 3}),\n",
       " Document(page_content=' learning, but by the c onclusion of this', metadata={'source': 'MachineLearning-Lecture01.pdf', 'page': 3}),\n",
       " Document(page_content=' class,  I hope that all of \\n', metadata={'source': 'MachineLearning-Lecture01.pdf', 'page': 3}),\n",
       " Document(page_content='you will actually be well qualified to star t doing', metadata={'source': 'MachineLearning-Lecture01.pdf', 'page': 3}),\n",
       " Document(page_content=' research in machine learning, okay?  \\n', metadata={'source': 'MachineLearning-Lecture01.pdf', 'page': 3}),\n",
       " Document(page_content=\"So let's say a few words about logistics.\", metadata={'source': 'MachineLearning-Lecture01.pdf', 'page': 3}),\n",
       " Document(page_content=' The prerequisites of this class are written on one', metadata={'source': 'MachineLearning-Lecture01.pdf', 'page': 3}),\n",
       " Document(page_content=' \\nof the handouts, are as follows', metadata={'source': 'MachineLearning-Lecture01.pdf', 'page': 3}),\n",
       " Document(page_content=\": In this class, I'm going to assume\", metadata={'source': 'MachineLearning-Lecture01.pdf', 'page': 3}),\n",
       " Document(page_content=' that all of you have sort \\nof basic', metadata={'source': 'MachineLearning-Lecture01.pdf', 'page': 3}),\n",
       " Document(page_content=' knowledge of computer science and kn owledge of the', metadata={'source': 'MachineLearning-Lecture01.pdf', 'page': 3}),\n",
       " Document(page_content=' basic computer skills and \\nprinciples.', metadata={'source': 'MachineLearning-Lecture01.pdf', 'page': 3}),\n",
       " Document(page_content=' So I assume all of you know what big?', metadata={'source': 'MachineLearning-Lecture01.pdf', 'page': 3}),\n",
       " Document(page_content='O notation, that all of you know about ', metadata={'source': 'MachineLearning-Lecture01.pdf', 'page': 3}),\n",
       " Document(page_content='\\nsort of data structures like  queues, stacks', metadata={'source': 'MachineLearning-Lecture01.pdf', 'page': 3}),\n",
       " Document(page_content=', binary trees , and that all of you know', metadata={'source': 'MachineLearning-Lecture01.pdf', 'page': 3}),\n",
       " Document(page_content=' enough \\nprogramming skills to, like,', metadata={'source': 'MachineLearning-Lecture01.pdf', 'page': 3}),\n",
       " Document(page_content=' write a simple co mputer program. And it', metadata={'source': 'MachineLearning-Lecture01.pdf', 'page': 3}),\n",
       " Document(page_content=' turns out that most ', metadata={'source': 'MachineLearning-Lecture01.pdf', 'page': 3}),\n",
       " Document(page_content='of this class will not be very program ming intensive', metadata={'source': 'MachineLearning-Lecture01.pdf', 'page': 4}),\n",
       " Document(page_content=', although we will do some \\nprogramming', metadata={'source': 'MachineLearning-Lecture01.pdf', 'page': 4}),\n",
       " Document(page_content=', mostly in either MATLAB or Octa ve', metadata={'source': 'MachineLearning-Lecture01.pdf', 'page': 4}),\n",
       " Document(page_content=\". I'll say a bit more about that later\", metadata={'source': 'MachineLearning-Lecture01.pdf', 'page': 4}),\n",
       " Document(page_content='.  \\nI also assume familiarity with basic', metadata={'source': 'MachineLearning-Lecture01.pdf', 'page': 4}),\n",
       " Document(page_content=' proba bility and statistics. So most undergraduate', metadata={'source': 'MachineLearning-Lecture01.pdf', 'page': 4}),\n",
       " Document(page_content=' \\nstatistics class, like Stat 116 taught', metadata={'source': 'MachineLearning-Lecture01.pdf', 'page': 4}),\n",
       " Document(page_content=' here at Stanford, will be more than enough.', metadata={'source': 'MachineLearning-Lecture01.pdf', 'page': 4}),\n",
       " Document(page_content=\" I'm gonna \\nassume all of you\", metadata={'source': 'MachineLearning-Lecture01.pdf', 'page': 4}),\n",
       " Document(page_content=' know what ra ndom variables are, that all', metadata={'source': 'MachineLearning-Lecture01.pdf', 'page': 4}),\n",
       " Document(page_content=' of you know what expectation \\nis, what', metadata={'source': 'MachineLearning-Lecture01.pdf', 'page': 4}),\n",
       " Document(page_content=' a variance or a random variable is. And in', metadata={'source': 'MachineLearning-Lecture01.pdf', 'page': 4}),\n",
       " Document(page_content=\" case of some of you, it's been a\", metadata={'source': 'MachineLearning-Lecture01.pdf', 'page': 4}),\n",
       " Document(page_content=\" while \\nsince you've seen some of this\", metadata={'source': 'MachineLearning-Lecture01.pdf', 'page': 4}),\n",
       " Document(page_content=' material. At some of the discussion sections, we', metadata={'source': 'MachineLearning-Lecture01.pdf', 'page': 4}),\n",
       " Document(page_content=\"'ll actually \\ngo over some of the pre\", metadata={'source': 'MachineLearning-Lecture01.pdf', 'page': 4}),\n",
       " Document(page_content='requisites, sort of as  a refresher course', metadata={'source': 'MachineLearning-Lecture01.pdf', 'page': 4}),\n",
       " Document(page_content=\" under prerequisite class. \\nI'll say a\", metadata={'source': 'MachineLearning-Lecture01.pdf', 'page': 4}),\n",
       " Document(page_content=' bit more about that later as well.  ', metadata={'source': 'MachineLearning-Lecture01.pdf', 'page': 4}),\n",
       " Document(page_content='\\nLastly, I also assume familiarity with basi', metadata={'source': 'MachineLearning-Lecture01.pdf', 'page': 4}),\n",
       " Document(page_content=' c linear algebra. And again, most undergraduate ', metadata={'source': 'MachineLearning-Lecture01.pdf', 'page': 4}),\n",
       " Document(page_content='\\nlinear algebra courses are more than enough. So', metadata={'source': 'MachineLearning-Lecture01.pdf', 'page': 4}),\n",
       " Document(page_content=\" if you've taken courses like Math 51, \", metadata={'source': 'MachineLearning-Lecture01.pdf', 'page': 4}),\n",
       " Document(page_content='\\n103, Math 113 or CS205 at Stanford', metadata={'source': 'MachineLearning-Lecture01.pdf', 'page': 4}),\n",
       " Document(page_content=', that would be more than enough. Basically,', metadata={'source': 'MachineLearning-Lecture01.pdf', 'page': 4}),\n",
       " Document(page_content=\" I'm \\ngonna assume that all of\", metadata={'source': 'MachineLearning-Lecture01.pdf', 'page': 4}),\n",
       " Document(page_content=' you know what matrix es and vectors are, that', metadata={'source': 'MachineLearning-Lecture01.pdf', 'page': 4}),\n",
       " Document(page_content=' you know how to \\nmultiply mat', metadata={'source': 'MachineLearning-Lecture01.pdf', 'page': 4}),\n",
       " Document(page_content='rices and vectors and multiply matrix and matrices,', metadata={'source': 'MachineLearning-Lecture01.pdf', 'page': 4}),\n",
       " Document(page_content=' that you know what a matrix inverse is. If', metadata={'source': 'MachineLearning-Lecture01.pdf', 'page': 4}),\n",
       " Document(page_content=' you know what an eigenvect or of', metadata={'source': 'MachineLearning-Lecture01.pdf', 'page': 4}),\n",
       " Document(page_content=\" a matrix is, that'd be even better.\", metadata={'source': 'MachineLearning-Lecture01.pdf', 'page': 4}),\n",
       " Document(page_content=\" \\nBut if you don't quite know or\", metadata={'source': 'MachineLearning-Lecture01.pdf', 'page': 4}),\n",
       " Document(page_content=\" if you're not qu ite sure, that\", metadata={'source': 'MachineLearning-Lecture01.pdf', 'page': 4}),\n",
       " Document(page_content=\"'s fine, too. We'll go over it\", metadata={'source': 'MachineLearning-Lecture01.pdf', 'page': 4}),\n",
       " Document(page_content=' in \\nthe review sections.  \\n', metadata={'source': 'MachineLearning-Lecture01.pdf', 'page': 4}),\n",
       " Document(page_content='So there are a couple more logisti cal', metadata={'source': 'MachineLearning-Lecture01.pdf', 'page': 4}),\n",
       " Document(page_content=' things I should deal with in  this class.', metadata={'source': 'MachineLearning-Lecture01.pdf', 'page': 4}),\n",
       " Document(page_content=' One is that, as \\nmost of you', metadata={'source': 'MachineLearning-Lecture01.pdf', 'page': 4}),\n",
       " Document(page_content=' know, CS229 is a televised cla ss.', metadata={'source': 'MachineLearning-Lecture01.pdf', 'page': 4}),\n",
       " Document(page_content=' And in fact, I guess many of you are', metadata={'source': 'MachineLearning-Lecture01.pdf', 'page': 4}),\n",
       " Document(page_content=' \\nprobably watching this at home on TV,', metadata={'source': 'MachineLearning-Lecture01.pdf', 'page': 4}),\n",
       " Document(page_content=\" so I' m gonna say hi to our home\", metadata={'source': 'MachineLearning-Lecture01.pdf', 'page': 4}),\n",
       " Document(page_content=' viewers.  \\nSo earlier this year,', metadata={'source': 'MachineLearning-Lecture01.pdf', 'page': 4}),\n",
       " Document(page_content=' I appro ached SCPD, which televises', metadata={'source': 'MachineLearning-Lecture01.pdf', 'page': 4}),\n",
       " Document(page_content=' th ese classes, about trying to \\n', metadata={'source': 'MachineLearning-Lecture01.pdf', 'page': 4}),\n",
       " Document(page_content='make a small number of Stanford classes publ ic', metadata={'source': 'MachineLearning-Lecture01.pdf', 'page': 4}),\n",
       " Document(page_content='ly available or posting the videos on the \\n', metadata={'source': 'MachineLearning-Lecture01.pdf', 'page': 4}),\n",
       " Document(page_content='web. And so this year, Stanford is actually', metadata={'source': 'MachineLearning-Lecture01.pdf', 'page': 4}),\n",
       " Document(page_content=\" starting a small pilot program in which we'll \", metadata={'source': 'MachineLearning-Lecture01.pdf', 'page': 4}),\n",
       " Document(page_content='\\npost videos of a small number of classes on', metadata={'source': 'MachineLearning-Lecture01.pdf', 'page': 4}),\n",
       " Document(page_content='lin e, so on the Internet in a way', metadata={'source': 'MachineLearning-Lecture01.pdf', 'page': 4}),\n",
       " Document(page_content=' that makes it \\npublicly accessible to everyone', metadata={'source': 'MachineLearning-Lecture01.pdf', 'page': 4}),\n",
       " Document(page_content=\". I'm very exc ited about that because\", metadata={'source': 'MachineLearning-Lecture01.pdf', 'page': 4}),\n",
       " Document(page_content=\" machine learning in \\nschool, let's get\", metadata={'source': 'MachineLearning-Lecture01.pdf', 'page': 4}),\n",
       " Document(page_content=' the word out there.  \\nOne of', metadata={'source': 'MachineLearning-Lecture01.pdf', 'page': 4}),\n",
       " Document(page_content=\" the consequences of this is that — let's see\", metadata={'source': 'MachineLearning-Lecture01.pdf', 'page': 4}),\n",
       " Document(page_content=' — so videos  or pictures of the students ', metadata={'source': 'MachineLearning-Lecture01.pdf', 'page': 4}),\n",
       " Document(page_content='\\nin this classroom will not be posted online,', metadata={'source': 'MachineLearning-Lecture01.pdf', 'page': 4}),\n",
       " Document(page_content=\" so your images — so don't worry about being\", metadata={'source': 'MachineLearning-Lecture01.pdf', 'page': 4}),\n",
       " Document(page_content=' \\nby seeing your own face appear on YouTube', metadata={'source': 'MachineLearning-Lecture01.pdf', 'page': 4}),\n",
       " Document(page_content=' one day. But the microphones may pick up your', metadata={'source': 'MachineLearning-Lecture01.pdf', 'page': 4}),\n",
       " Document(page_content=' voices, so I guess the consequence of that is', metadata={'source': 'MachineLearning-Lecture01.pdf', 'page': 4}),\n",
       " Document(page_content=' that because microphones may pick up your voices, no', metadata={'source': 'MachineLearning-Lecture01.pdf', 'page': 4}),\n",
       " Document(page_content=' matter how irritated you are at  me, don', metadata={'source': 'MachineLearning-Lecture01.pdf', 'page': 4}),\n",
       " Document(page_content=\"'t yell out swear words in the \\nmiddle\", metadata={'source': 'MachineLearning-Lecture01.pdf', 'page': 4}),\n",
       " Document(page_content=\" of class, but because there won't be video\", metadata={'source': 'MachineLearning-Lecture01.pdf', 'page': 4}),\n",
       " Document(page_content=' you can safely sit there and make faces \\n', metadata={'source': 'MachineLearning-Lecture01.pdf', 'page': 4}),\n",
       " Document(page_content=\"at me, and that won't show, okay\", metadata={'source': 'MachineLearning-Lecture01.pdf', 'page': 4}),\n",
       " Document(page_content=\"?  \\nLet's see. I also\", metadata={'source': 'MachineLearning-Lecture01.pdf', 'page': 4}),\n",
       " Document(page_content=' handed out this — ther e were two handouts', metadata={'source': 'MachineLearning-Lecture01.pdf', 'page': 4}),\n",
       " Document(page_content=' I hope most of you have, \\ncourse', metadata={'source': 'MachineLearning-Lecture01.pdf', 'page': 4}),\n",
       " Document(page_content=' information handout. So let me just sa y', metadata={'source': 'MachineLearning-Lecture01.pdf', 'page': 4}),\n",
       " Document(page_content=' a few words about parts of these. On the', metadata={'source': 'MachineLearning-Lecture01.pdf', 'page': 4}),\n",
       " Document(page_content=\" \\nthird page, there's a section that\", metadata={'source': 'MachineLearning-Lecture01.pdf', 'page': 4}),\n",
       " Document(page_content=' says Online Resources.  \\nOh, okay', metadata={'source': 'MachineLearning-Lecture01.pdf', 'page': 4}),\n",
       " Document(page_content='. Louder? Actually, could you turn up', metadata={'source': 'MachineLearning-Lecture01.pdf', 'page': 4}),\n",
       " Document(page_content=' the volume? Testing. Is this better? ', metadata={'source': 'MachineLearning-Lecture01.pdf', 'page': 4}),\n",
       " Document(page_content='\\nTesting, testing. Okay, cool. Thanks', metadata={'source': 'MachineLearning-Lecture01.pdf', 'page': 4}),\n",
       " Document(page_content='.  ', metadata={'source': 'MachineLearning-Lecture01.pdf', 'page': 4}),\n",
       " Document(page_content='So all right, online resources. The class has', metadata={'source': 'MachineLearning-Lecture01.pdf', 'page': 5}),\n",
       " Document(page_content=\" a home page, so it's in on the\", metadata={'source': 'MachineLearning-Lecture01.pdf', 'page': 5}),\n",
       " Document(page_content=\" handouts. I \\nwon't write on\", metadata={'source': 'MachineLearning-Lecture01.pdf', 'page': 5}),\n",
       " Document(page_content=' the chalkboard — http:// cs229.stan', metadata={'source': 'MachineLearning-Lecture01.pdf', 'page': 5}),\n",
       " Document(page_content='ford.edu. And so when there are ', metadata={'source': 'MachineLearning-Lecture01.pdf', 'page': 5}),\n",
       " Document(page_content='\\nhomework assignments or things like that, we', metadata={'source': 'MachineLearning-Lecture01.pdf', 'page': 5}),\n",
       " Document(page_content=\"  usually won't sort of — in the mission\", metadata={'source': 'MachineLearning-Lecture01.pdf', 'page': 5}),\n",
       " Document(page_content=' of \\nsaving trees, we will usually not', metadata={'source': 'MachineLearning-Lecture01.pdf', 'page': 5}),\n",
       " Document(page_content=' give out many handouts in class. So homework', metadata={'source': 'MachineLearning-Lecture01.pdf', 'page': 5}),\n",
       " Document(page_content=' \\nassignments, homework solutions will be', metadata={'source': 'MachineLearning-Lecture01.pdf', 'page': 5}),\n",
       " Document(page_content=' posted online at the course home page.  ', metadata={'source': 'MachineLearning-Lecture01.pdf', 'page': 5}),\n",
       " Document(page_content=\"\\nAs far as this class, I've also\", metadata={'source': 'MachineLearning-Lecture01.pdf', 'page': 5}),\n",
       " Document(page_content=\" written, a nd I guess I've also\", metadata={'source': 'MachineLearning-Lecture01.pdf', 'page': 5}),\n",
       " Document(page_content=' revised every year a set of \\nfairly', metadata={'source': 'MachineLearning-Lecture01.pdf', 'page': 5}),\n",
       " Document(page_content=' detailed lecture notes that cover the te chnical', metadata={'source': 'MachineLearning-Lecture01.pdf', 'page': 5}),\n",
       " Document(page_content=' content of this  class. And so if you', metadata={'source': 'MachineLearning-Lecture01.pdf', 'page': 5}),\n",
       " Document(page_content=\" \\nvisit the course homepage, you'll\", metadata={'source': 'MachineLearning-Lecture01.pdf', 'page': 5}),\n",
       " Document(page_content=' also find the detailed lecture notes that go over in', metadata={'source': 'MachineLearning-Lecture01.pdf', 'page': 5}),\n",
       " Document(page_content=' detail \\nall the math and equations and so', metadata={'source': 'MachineLearning-Lecture01.pdf', 'page': 5}),\n",
       " Document(page_content=\" on  that I'll be doing in class.\", metadata={'source': 'MachineLearning-Lecture01.pdf', 'page': 5}),\n",
       " Document(page_content=\"  \\nThere's also a newsgroup,\", metadata={'source': 'MachineLearning-Lecture01.pdf', 'page': 5}),\n",
       " Document(page_content=' su.class.cs229, also written on', metadata={'source': 'MachineLearning-Lecture01.pdf', 'page': 5}),\n",
       " Document(page_content=' the handout. This is a \\nnews', metadata={'source': 'MachineLearning-Lecture01.pdf', 'page': 5}),\n",
       " Document(page_content=\"group that's sort of a forum for people in\", metadata={'source': 'MachineLearning-Lecture01.pdf', 'page': 5}),\n",
       " Document(page_content='  the class to get to  know each other', metadata={'source': 'MachineLearning-Lecture01.pdf', 'page': 5}),\n",
       " Document(page_content=' and \\nhave whatever discussions you want to ha', metadata={'source': 'MachineLearning-Lecture01.pdf', 'page': 5}),\n",
       " Document(page_content=' ve amongst yourselves. So the class newsgroup ', metadata={'source': 'MachineLearning-Lecture01.pdf', 'page': 5}),\n",
       " Document(page_content='\\nwill not be monitored by the TAs and', metadata={'source': 'MachineLearning-Lecture01.pdf', 'page': 5}),\n",
       " Document(page_content=' me. But this is a place for you to', metadata={'source': 'MachineLearning-Lecture01.pdf', 'page': 5}),\n",
       " Document(page_content=' form study groups \\nor find project partners or', metadata={'source': 'MachineLearning-Lecture01.pdf', 'page': 5}),\n",
       " Document(page_content=\" discuss homework problems and so on, and it's\", metadata={'source': 'MachineLearning-Lecture01.pdf', 'page': 5}),\n",
       " Document(page_content=' not monitored \\nby the TAs and me', metadata={'source': 'MachineLearning-Lecture01.pdf', 'page': 5}),\n",
       " Document(page_content='. So feel free to ta lk trash about', metadata={'source': 'MachineLearning-Lecture01.pdf', 'page': 5}),\n",
       " Document(page_content=' this class there.  \\nIf you want', metadata={'source': 'MachineLearning-Lecture01.pdf', 'page': 5}),\n",
       " Document(page_content=' to contact the teaching staff, pl ease use the', metadata={'source': 'MachineLearning-Lecture01.pdf', 'page': 5}),\n",
       " Document(page_content=' email address written down here, \\ncs229', metadata={'source': 'MachineLearning-Lecture01.pdf', 'page': 5}),\n",
       " Document(page_content='-qa@cs.stanford.edu.', metadata={'source': 'MachineLearning-Lecture01.pdf', 'page': 5}),\n",
       " Document(page_content=\" This goes to an acc ount that's read\", metadata={'source': 'MachineLearning-Lecture01.pdf', 'page': 5}),\n",
       " Document(page_content=' by all the TAs and me. So ', metadata={'source': 'MachineLearning-Lecture01.pdf', 'page': 5}),\n",
       " Document(page_content='\\nrather than sending us email individually, if you', metadata={'source': 'MachineLearning-Lecture01.pdf', 'page': 5}),\n",
       " Document(page_content=' send email to this account, it will \\n', metadata={'source': 'MachineLearning-Lecture01.pdf', 'page': 5}),\n",
       " Document(page_content='actually let us get back to you maximally quickly', metadata={'source': 'MachineLearning-Lecture01.pdf', 'page': 5}),\n",
       " Document(page_content=' with answers to your questions.  \\nIf', metadata={'source': 'MachineLearning-Lecture01.pdf', 'page': 5}),\n",
       " Document(page_content=\" you're asking questions about homework probl ems\", metadata={'source': 'MachineLearning-Lecture01.pdf', 'page': 5}),\n",
       " Document(page_content=', please say in the subject line which \\n', metadata={'source': 'MachineLearning-Lecture01.pdf', 'page': 5}),\n",
       " Document(page_content='assignment and which question the email refers to,', metadata={'source': 'MachineLearning-Lecture01.pdf', 'page': 5}),\n",
       " Document(page_content=' since that will also help us to route \\n', metadata={'source': 'MachineLearning-Lecture01.pdf', 'page': 5}),\n",
       " Document(page_content='your question to the appropriate TA or to me ', metadata={'source': 'MachineLearning-Lecture01.pdf', 'page': 5}),\n",
       " Document(page_content=' appropriately and get the response back to \\nyou', metadata={'source': 'MachineLearning-Lecture01.pdf', 'page': 5}),\n",
       " Document(page_content=\" quickly.  \\nLet's see. Sk\", metadata={'source': 'MachineLearning-Lecture01.pdf', 'page': 5}),\n",
       " Document(page_content=\"ipping ahead — let's see — for homework,\", metadata={'source': 'MachineLearning-Lecture01.pdf', 'page': 5}),\n",
       " Document(page_content=' one midterm, one open and term \\nproject', metadata={'source': 'MachineLearning-Lecture01.pdf', 'page': 5}),\n",
       " Document(page_content='. Notice on the honor code. So one th', metadata={'source': 'MachineLearning-Lecture01.pdf', 'page': 5}),\n",
       " Document(page_content='i ng that I think will help you to succeed', metadata={'source': 'MachineLearning-Lecture01.pdf', 'page': 5}),\n",
       " Document(page_content=' and \\ndo well in this class and even', metadata={'source': 'MachineLearning-Lecture01.pdf', 'page': 5}),\n",
       " Document(page_content=' help you to enjoy this cla ss more is if', metadata={'source': 'MachineLearning-Lecture01.pdf', 'page': 5}),\n",
       " Document(page_content=' you form a study \\ngroup.  ', metadata={'source': 'MachineLearning-Lecture01.pdf', 'page': 5}),\n",
       " Document(page_content=\"\\nSo start looking around where you' re sitting\", metadata={'source': 'MachineLearning-Lecture01.pdf', 'page': 5}),\n",
       " Document(page_content=' now or at the end of class today, m', metadata={'source': 'MachineLearning-Lecture01.pdf', 'page': 5}),\n",
       " Document(page_content='ingle a \\nlittle bit and get to know', metadata={'source': 'MachineLearning-Lecture01.pdf', 'page': 5}),\n",
       " Document(page_content=' your classmates. I strongly encourage you to form study', metadata={'source': 'MachineLearning-Lecture01.pdf', 'page': 5}),\n",
       " Document(page_content=' groups \\nand sort of have a group of', metadata={'source': 'MachineLearning-Lecture01.pdf', 'page': 5}),\n",
       " Document(page_content=' people to study with and have a group of your', metadata={'source': 'MachineLearning-Lecture01.pdf', 'page': 5}),\n",
       " Document(page_content=' fellow students \\nto talk over these concepts with', metadata={'source': 'MachineLearning-Lecture01.pdf', 'page': 5}),\n",
       " Document(page_content='. You can also  post on the class news', metadata={'source': 'MachineLearning-Lecture01.pdf', 'page': 5}),\n",
       " Document(page_content=' group if you want to \\nuse that to', metadata={'source': 'MachineLearning-Lecture01.pdf', 'page': 5}),\n",
       " Document(page_content=' try to form a study group.  \\n', metadata={'source': 'MachineLearning-Lecture01.pdf', 'page': 5}),\n",
       " Document(page_content='But some of the problems sets in this cla ss', metadata={'source': 'MachineLearning-Lecture01.pdf', 'page': 5}),\n",
       " Document(page_content=' are reasonably difficult.  People that have \\n', metadata={'source': 'MachineLearning-Lecture01.pdf', 'page': 5}),\n",
       " Document(page_content='taken the class before may tell you they were', metadata={'source': 'MachineLearning-Lecture01.pdf', 'page': 5}),\n",
       " Document(page_content=' very difficult. And just I bet it would be', metadata={'source': 'MachineLearning-Lecture01.pdf', 'page': 5}),\n",
       " Document(page_content=\" \\nmore fun for you, and you'd\", metadata={'source': 'MachineLearning-Lecture01.pdf', 'page': 5}),\n",
       " Document(page_content=' probably have a be tter learning experience if you', metadata={'source': 'MachineLearning-Lecture01.pdf', 'page': 5}),\n",
       " Document(page_content=' form a \\nstudy group of people to work', metadata={'source': 'MachineLearning-Lecture01.pdf', 'page': 5}),\n",
       " Document(page_content=' with. So I definitely encourage you to do that', metadata={'source': 'MachineLearning-Lecture01.pdf', 'page': 5}),\n",
       " Document(page_content='.  \\nAnd just to say a word', metadata={'source': 'MachineLearning-Lecture01.pdf', 'page': 5}),\n",
       " Document(page_content=' on the honor code, whic h is I', metadata={'source': 'MachineLearning-Lecture01.pdf', 'page': 5}),\n",
       " Document(page_content=' definitely en courage you to form a \\nstudy', metadata={'source': 'MachineLearning-Lecture01.pdf', 'page': 5}),\n",
       " Document(page_content=' group and work together, discuss homew ork', metadata={'source': 'MachineLearning-Lecture01.pdf', 'page': 5}),\n",
       " Document(page_content=' problems together. But if you discuss ', metadata={'source': 'MachineLearning-Lecture01.pdf', 'page': 5}),\n",
       " Document(page_content='homework problems with other students, then  I', metadata={'source': 'MachineLearning-Lecture01.pdf', 'page': 6}),\n",
       " Document(page_content=\"'ll ask you to sort of go home and write\", metadata={'source': 'MachineLearning-Lecture01.pdf', 'page': 6}),\n",
       " Document(page_content=' \\ndown your own solutions independe nt', metadata={'source': 'MachineLearning-Lecture01.pdf', 'page': 6}),\n",
       " Document(page_content='ly without referring to note s that were taken in', metadata={'source': 'MachineLearning-Lecture01.pdf', 'page': 6}),\n",
       " Document(page_content=' any \\nof your joint study sessions. ', metadata={'source': 'MachineLearning-Lecture01.pdf', 'page': 6}),\n",
       " Document(page_content=' \\nSo in other words, when you turn', metadata={'source': 'MachineLearning-Lecture01.pdf', 'page': 6}),\n",
       " Document(page_content=' in a hom ework problem, what you turn', metadata={'source': 'MachineLearning-Lecture01.pdf', 'page': 6}),\n",
       " Document(page_content=' in should be \\nsomething that was reconstructed independ', metadata={'source': 'MachineLearning-Lecture01.pdf', 'page': 6}),\n",
       " Document(page_content='e ntly by yourself and w ith', metadata={'source': 'MachineLearning-Lecture01.pdf', 'page': 6}),\n",
       " Document(page_content='out referring to \\nnotes that you took during', metadata={'source': 'MachineLearning-Lecture01.pdf', 'page': 6}),\n",
       " Document(page_content=' your  study sessions with other people, okay?', metadata={'source': 'MachineLearning-Lecture01.pdf', 'page': 6}),\n",
       " Document(page_content=' And obviously, \\nshowing your solutions to', metadata={'source': 'MachineLearning-Lecture01.pdf', 'page': 6}),\n",
       " Document(page_content=' othe rs or copying other solutions  directly is', metadata={'source': 'MachineLearning-Lecture01.pdf', 'page': 6}),\n",
       " Document(page_content=' right out.  \\nWe occasionally also reuse', metadata={'source': 'MachineLearning-Lecture01.pdf', 'page': 6}),\n",
       " Document(page_content=' problem set questions from previous years so that the ', metadata={'source': 'MachineLearning-Lecture01.pdf', 'page': 6}),\n",
       " Document(page_content='\\nproblems are a bit more debugged and', metadata={'source': 'MachineLearning-Lecture01.pdf', 'page': 6}),\n",
       " Document(page_content=' work more  smoothly. And as a result of', metadata={'source': 'MachineLearning-Lecture01.pdf', 'page': 6}),\n",
       " Document(page_content=' that, I also \\nask you not to', metadata={'source': 'MachineLearning-Lecture01.pdf', 'page': 6}),\n",
       " Document(page_content=' look at solutions from previous ye ars, and', metadata={'source': 'MachineLearning-Lecture01.pdf', 'page': 6}),\n",
       " Document(page_content=' this includes both sort of official \\nsolutions', metadata={'source': 'MachineLearning-Lecture01.pdf', 'page': 6}),\n",
       " Document(page_content=\" that we've given out to previous gene rations\", metadata={'source': 'MachineLearning-Lecture01.pdf', 'page': 6}),\n",
       " Document(page_content=' of this class and previous solutions \\nthat people', metadata={'source': 'MachineLearning-Lecture01.pdf', 'page': 6}),\n",
       " Document(page_content=' that have taken this class in previous years may have', metadata={'source': 'MachineLearning-Lecture01.pdf', 'page': 6}),\n",
       " Document(page_content=' written out by \\nthemselves, okay?', metadata={'source': 'MachineLearning-Lecture01.pdf', 'page': 6}),\n",
       " Document(page_content='  \\nSadly, in this class, there', metadata={'source': 'MachineLearning-Lecture01.pdf', 'page': 6}),\n",
       " Document(page_content=' are usually — sadly, in previous y ears,', metadata={'source': 'MachineLearning-Lecture01.pdf', 'page': 6}),\n",
       " Document(page_content=' there have often been a \\nfew honor code', metadata={'source': 'MachineLearning-Lecture01.pdf', 'page': 6}),\n",
       " Document(page_content=' violations in this class. And last year, I', metadata={'source': 'MachineLearning-Lecture01.pdf', 'page': 6}),\n",
       " Document(page_content=' think I pr osecuted five honor code ', metadata={'source': 'MachineLearning-Lecture01.pdf', 'page': 6}),\n",
       " Document(page_content='\\nviolations, which I think is a ridiculously', metadata={'source': 'MachineLearning-Lecture01.pdf', 'page': 6}),\n",
       " Document(page_content=\" large number. And so just don't work without\", metadata={'source': 'MachineLearning-Lecture01.pdf', 'page': 6}),\n",
       " Document(page_content=\" \\nsolutions, and hopefully there'll be\", metadata={'source': 'MachineLearning-Lecture01.pdf', 'page': 6}),\n",
       " Document(page_content=\" zero honor code  violations this year. I'd\", metadata={'source': 'MachineLearning-Lecture01.pdf', 'page': 6}),\n",
       " Document(page_content=' love for that \\nto happen.  ', metadata={'source': 'MachineLearning-Lecture01.pdf', 'page': 6}),\n",
       " Document(page_content='\\nThe section here on the late homework polic y', metadata={'source': 'MachineLearning-Lecture01.pdf', 'page': 6}),\n",
       " Document(page_content=' if you ever want to hand in a homework ', metadata={'source': 'MachineLearning-Lecture01.pdf', 'page': 6}),\n",
       " Document(page_content=\"\\nlate, I'll leave you to r e\", metadata={'source': 'MachineLearning-Lecture01.pdf', 'page': 6}),\n",
       " Document(page_content='ad that yourself.  \\nWe also have', metadata={'source': 'MachineLearning-Lecture01.pdf', 'page': 6}),\n",
       " Document(page_content=' a midterm, which is scheduled for Thursday, 8', metadata={'source': 'MachineLearning-Lecture01.pdf', 'page': 6}),\n",
       " Document(page_content='th of November at 6:00 p.m', metadata={'source': 'MachineLearning-Lecture01.pdf', 'page': 6}),\n",
       " Document(page_content='., \\nso please keep that evening free.', metadata={'source': 'MachineLearning-Lecture01.pdf', 'page': 6}),\n",
       " Document(page_content=\"  \\nAnd let's see. And one\", metadata={'source': 'MachineLearning-Lecture01.pdf', 'page': 6}),\n",
       " Document(page_content=' more administrative thing I wanted to sa y is about', metadata={'source': 'MachineLearning-Lecture01.pdf', 'page': 6}),\n",
       " Document(page_content=' the class \\nproject. So part of the', metadata={'source': 'MachineLearning-Lecture01.pdf', 'page': 6}),\n",
       " Document(page_content=' goal of this cla ss is to leave you well', metadata={'source': 'MachineLearning-Lecture01.pdf', 'page': 6}),\n",
       " Document(page_content=' eq uipped to apply machine \\nlearning algorithms', metadata={'source': 'MachineLearning-Lecture01.pdf', 'page': 6}),\n",
       " Document(page_content=' to a problem or to do rese arch in machine', metadata={'source': 'MachineLearning-Lecture01.pdf', 'page': 6}),\n",
       " Document(page_content=' learning. And so as part of \\nthis', metadata={'source': 'MachineLearning-Lecture01.pdf', 'page': 6}),\n",
       " Document(page_content=\" class, I'll ask you to execute a small\", metadata={'source': 'MachineLearning-Lecture01.pdf', 'page': 6}),\n",
       " Document(page_content=' resear ch project sort of as a small term project', metadata={'source': 'MachineLearning-Lecture01.pdf', 'page': 6}),\n",
       " Document(page_content='.  \\nAnd what most students do for', metadata={'source': 'MachineLearning-Lecture01.pdf', 'page': 6}),\n",
       " Document(page_content=' this is either  apply machine learning to a problem', metadata={'source': 'MachineLearning-Lecture01.pdf', 'page': 6}),\n",
       " Document(page_content=' that you \\nfind interesting or investigate some aspect', metadata={'source': 'MachineLearning-Lecture01.pdf', 'page': 6}),\n",
       " Document(page_content=' of  machine learning. So to those of you', metadata={'source': 'MachineLearning-Lecture01.pdf', 'page': 6}),\n",
       " Document(page_content=' that \\nare either already doing research or to', metadata={'source': 'MachineLearning-Lecture01.pdf', 'page': 6}),\n",
       " Document(page_content=\" those of you who are in industry, you're\", metadata={'source': 'MachineLearning-Lecture01.pdf', 'page': 6}),\n",
       " Document(page_content=' taking this \\nfrom a company, one fantastic', metadata={'source': 'MachineLearning-Lecture01.pdf', 'page': 6}),\n",
       " Document(page_content=' sort of way to do a class project would be', metadata={'source': 'MachineLearning-Lecture01.pdf', 'page': 6}),\n",
       " Document(page_content=' if you apply \\nmachine learning algorithms to a', metadata={'source': 'MachineLearning-Lecture01.pdf', 'page': 6}),\n",
       " Document(page_content=\" problem that  you're interested in, to a\", metadata={'source': 'MachineLearning-Lecture01.pdf', 'page': 6}),\n",
       " Document(page_content=\" problem that \\nyou're already working on,\", metadata={'source': 'MachineLearning-Lecture01.pdf', 'page': 6}),\n",
       " Document(page_content=' whether it be a scien ce research problem or', metadata={'source': 'MachineLearning-Lecture01.pdf', 'page': 6}),\n",
       " Document(page_content=' sort of a problem \\nin industry where you', metadata={'source': 'MachineLearning-Lecture01.pdf', 'page': 6}),\n",
       " Document(page_content=\"'re trying to get a syst em to work\", metadata={'source': 'MachineLearning-Lecture01.pdf', 'page': 6}),\n",
       " Document(page_content=' using a learning algorithm.  \\nTo those', metadata={'source': 'MachineLearning-Lecture01.pdf', 'page': 6}),\n",
       " Document(page_content=' of you that are not currently doing re search,', metadata={'source': 'MachineLearning-Lecture01.pdf', 'page': 6}),\n",
       " Document(page_content=' one great way to do a project would \\n', metadata={'source': 'MachineLearning-Lecture01.pdf', 'page': 6}),\n",
       " Document(page_content='be if you apply learning algorithms to just pick a', metadata={'source': 'MachineLearning-Lecture01.pdf', 'page': 6}),\n",
       " Document(page_content=' problem that you care about. Pick a \\n', metadata={'source': 'MachineLearning-Lecture01.pdf', 'page': 6}),\n",
       " Document(page_content='problem that you find interesting, and apply lear n', metadata={'source': 'MachineLearning-Lecture01.pdf', 'page': 6}),\n",
       " Document(page_content='ing algorithms to that  and play with the ', metadata={'source': 'MachineLearning-Lecture01.pdf', 'page': 6}),\n",
       " Document(page_content='\\nideas and see what happens.  ', metadata={'source': 'MachineLearning-Lecture01.pdf', 'page': 6}),\n",
       " Document(page_content=\"And let's see. Oh, and the goal\", metadata={'source': 'MachineLearning-Lecture01.pdf', 'page': 7}),\n",
       " Document(page_content=' of the projec t should really be for', metadata={'source': 'MachineLearning-Lecture01.pdf', 'page': 7}),\n",
       " Document(page_content=' you to do a publishable \\npiece of', metadata={'source': 'MachineLearning-Lecture01.pdf', 'page': 7}),\n",
       " Document(page_content=' research in machine learning, okay?  \\n', metadata={'source': 'MachineLearning-Lecture01.pdf', 'page': 7}),\n",
       " Document(page_content='And if you go to the course website, you', metadata={'source': 'MachineLearning-Lecture01.pdf', 'page': 7}),\n",
       " Document(page_content=\"'ll actuall y find a list of the projects\", metadata={'source': 'MachineLearning-Lecture01.pdf', 'page': 7}),\n",
       " Document(page_content=' that students \\nhad done last year. And', metadata={'source': 'MachineLearning-Lecture01.pdf', 'page': 7}),\n",
       " Document(page_content=\" so I'm holding the li st in my hand\", metadata={'source': 'MachineLearning-Lecture01.pdf', 'page': 7}),\n",
       " Document(page_content='. You can  go home later and \\n', metadata={'source': 'MachineLearning-Lecture01.pdf', 'page': 7}),\n",
       " Document(page_content='take a look at it online.  \\n', metadata={'source': 'MachineLearning-Lecture01.pdf', 'page': 7}),\n",
       " Document(page_content='But reading down this list, I see that last', metadata={'source': 'MachineLearning-Lecture01.pdf', 'page': 7}),\n",
       " Document(page_content=' year, there were st udents that ap', metadata={'source': 'MachineLearning-Lecture01.pdf', 'page': 7}),\n",
       " Document(page_content=' plied learning \\nalgorithms to control', metadata={'source': 'MachineLearning-Lecture01.pdf', 'page': 7}),\n",
       " Document(page_content=' a snake robot. Ther e was a few projects', metadata={'source': 'MachineLearning-Lecture01.pdf', 'page': 7}),\n",
       " Document(page_content=' on improving learning \\nalgorithms. There', metadata={'source': 'MachineLearning-Lecture01.pdf', 'page': 7}),\n",
       " Document(page_content=\"'s a project on flying autonomous  aircraft. There\", metadata={'source': 'MachineLearning-Lecture01.pdf', 'page': 7}),\n",
       " Document(page_content=' was a project actually \\ndone by our TA', metadata={'source': 'MachineLearning-Lecture01.pdf', 'page': 7}),\n",
       " Document(page_content=' Paul on improvi ng computer vision algorithms  using', metadata={'source': 'MachineLearning-Lecture01.pdf', 'page': 7}),\n",
       " Document(page_content=' machine learning.  \\nThere are a couple', metadata={'source': 'MachineLearning-Lecture01.pdf', 'page': 7}),\n",
       " Document(page_content=' of project s on Netflix rankings using learning algorithms;', metadata={'source': 'MachineLearning-Lecture01.pdf', 'page': 7}),\n",
       " Document(page_content=' a few \\nmedical robots; ones on segment', metadata={'source': 'MachineLearning-Lecture01.pdf', 'page': 7}),\n",
       " Document(page_content='ing [inaudibl e] to segmenting', metadata={'source': 'MachineLearning-Lecture01.pdf', 'page': 7}),\n",
       " Document(page_content=' pieces of the body using \\nlearning algorithms;', metadata={'source': 'MachineLearning-Lecture01.pdf', 'page': 7}),\n",
       " Document(page_content=' one on musical instrume nt detection; an', metadata={'source': 'MachineLearning-Lecture01.pdf', 'page': 7}),\n",
       " Document(page_content='ot her on irony sequence \\nalignment;', metadata={'source': 'MachineLearning-Lecture01.pdf', 'page': 7}),\n",
       " Document(page_content=' and a few algorithms on understandin g the brain', metadata={'source': 'MachineLearning-Lecture01.pdf', 'page': 7}),\n",
       " Document(page_content=' neuroscience, actually quite a \\nfew projects on', metadata={'source': 'MachineLearning-Lecture01.pdf', 'page': 7}),\n",
       " Document(page_content=' neuroscience; a couple of projects on unde scending', metadata={'source': 'MachineLearning-Lecture01.pdf', 'page': 7}),\n",
       " Document(page_content=' fMRI data on brain \\nscans,', metadata={'source': 'MachineLearning-Lecture01.pdf', 'page': 7}),\n",
       " Document(page_content=' and so on; another project on market makings', metadata={'source': 'MachineLearning-Lecture01.pdf', 'page': 7}),\n",
       " Document(page_content=', the financial trading. There was an \\n', metadata={'source': 'MachineLearning-Lecture01.pdf', 'page': 7}),\n",
       " Document(page_content='interesting project on trying to use learning algorithms to decide', metadata={'source': 'MachineLearning-Lecture01.pdf', 'page': 7}),\n",
       " Document(page_content=\" what is it that makes a \\nperson's\", metadata={'source': 'MachineLearning-Lecture01.pdf', 'page': 7}),\n",
       " Document(page_content=\" face physically attractive. There's a learning algorithm on\", metadata={'source': 'MachineLearning-Lecture01.pdf', 'page': 7}),\n",
       " Document(page_content=' op tical illusions, and \\nso on', metadata={'source': 'MachineLearning-Lecture01.pdf', 'page': 7}),\n",
       " Document(page_content='.  \\nAnd it goes on, so', metadata={'source': 'MachineLearning-Lecture01.pdf', 'page': 7}),\n",
       " Document(page_content=' lots of fun projects. A nd take a', metadata={'source': 'MachineLearning-Lecture01.pdf', 'page': 7}),\n",
       " Document(page_content=' look, then come up with your own \\n', metadata={'source': 'MachineLearning-Lecture01.pdf', 'page': 7}),\n",
       " Document(page_content='ideas. But whatever you find cool and interest', metadata={'source': 'MachineLearning-Lecture01.pdf', 'page': 7}),\n",
       " Document(page_content=\" ing, I hope you'll be able to make\", metadata={'source': 'MachineLearning-Lecture01.pdf', 'page': 7}),\n",
       " Document(page_content=' machine \\nlearning a project out of it.', metadata={'source': 'MachineLearning-Lecture01.pdf', 'page': 7}),\n",
       " Document(page_content=' Yeah, question?  \\nStudent : Are', metadata={'source': 'MachineLearning-Lecture01.pdf', 'page': 7}),\n",
       " Document(page_content=' these gro up projects?  \\nInstructor', metadata={'source': 'MachineLearning-Lecture01.pdf', 'page': 7}),\n",
       " Document(page_content=' (Andrew Ng): Oh, yes, thank you', metadata={'source': 'MachineLearning-Lecture01.pdf', 'page': 7}),\n",
       " Document(page_content='.  \\nStudent : So how many people', metadata={'source': 'MachineLearning-Lecture01.pdf', 'page': 7}),\n",
       " Document(page_content=' can be in a group?  \\nInstruct', metadata={'source': 'MachineLearning-Lecture01.pdf', 'page': 7}),\n",
       " Document(page_content='or (Andrew Ng): Right. So projects can', metadata={'source': 'MachineLearning-Lecture01.pdf', 'page': 7}),\n",
       " Document(page_content=' be done in  groups of up to three people', metadata={'source': 'MachineLearning-Lecture01.pdf', 'page': 7}),\n",
       " Document(page_content='. \\nSo as part of forming study groups', metadata={'source': 'MachineLearning-Lecture01.pdf', 'page': 7}),\n",
       " Document(page_content=', later t oday as you get to know', metadata={'source': 'MachineLearning-Lecture01.pdf', 'page': 7}),\n",
       " Document(page_content=' your classmates, I \\ndefinitely also encourage', metadata={'source': 'MachineLearning-Lecture01.pdf', 'page': 7}),\n",
       " Document(page_content=' you to grab two ot her people and form a', metadata={'source': 'MachineLearning-Lecture01.pdf', 'page': 7}),\n",
       " Document(page_content=' group of up to three \\npeople for your', metadata={'source': 'MachineLearning-Lecture01.pdf', 'page': 7}),\n",
       " Document(page_content=' project, okay? And just start brainstorming ideas', metadata={'source': 'MachineLearning-Lecture01.pdf', 'page': 7}),\n",
       " Document(page_content=' for now amongst \\nyourselves. You can', metadata={'source': 'MachineLearning-Lecture01.pdf', 'page': 7}),\n",
       " Document(page_content=' also come and talk to me or the TAs', metadata={'source': 'MachineLearning-Lecture01.pdf', 'page': 7}),\n",
       " Document(page_content=' if you want to brainstorm ideas \\nwith us', metadata={'source': 'MachineLearning-Lecture01.pdf', 'page': 7}),\n",
       " Document(page_content='.  \\nOkay. So one more organizational', metadata={'source': 'MachineLearning-Lecture01.pdf', 'page': 7}),\n",
       " Document(page_content=\" ques tion. I'm curious, how many\", metadata={'source': 'MachineLearning-Lecture01.pdf', 'page': 7}),\n",
       " Document(page_content=' of you know \\nMATLAB? Wow,', metadata={'source': 'MachineLearning-Lecture01.pdf', 'page': 7}),\n",
       " Document(page_content=' cool, quite a lot. Okay. So as', metadata={'source': 'MachineLearning-Lecture01.pdf', 'page': 7}),\n",
       " Document(page_content=' part of the — act ually how many of', metadata={'source': 'MachineLearning-Lecture01.pdf', 'page': 7}),\n",
       " Document(page_content=' you \\nknow Octave or have used Oct', metadata={'source': 'MachineLearning-Lecture01.pdf', 'page': 7}),\n",
       " Document(page_content='ave ? Oh, okay, much smaller number.', metadata={'source': 'MachineLearning-Lecture01.pdf', 'page': 7}),\n",
       " Document(page_content='  \\nSo as part of this class,', metadata={'source': 'MachineLearning-Lecture01.pdf', 'page': 7}),\n",
       " Document(page_content=\" especially in the homeworks, we'll ask you\", metadata={'source': 'MachineLearning-Lecture01.pdf', 'page': 7}),\n",
       " Document(page_content=' to implement a few \\nprograms, a', metadata={'source': 'MachineLearning-Lecture01.pdf', 'page': 7}),\n",
       " Document(page_content=' few machine learning algorithms as  part of the hom', metadata={'source': 'MachineLearning-Lecture01.pdf', 'page': 7}),\n",
       " Document(page_content='eworks. And most of ', metadata={'source': 'MachineLearning-Lecture01.pdf', 'page': 7}),\n",
       " Document(page_content='those homeworks will be done in either MATLA', metadata={'source': 'MachineLearning-Lecture01.pdf', 'page': 8}),\n",
       " Document(page_content=' B or in Octave, which is sort of', metadata={'source': 'MachineLearning-Lecture01.pdf', 'page': 8}),\n",
       " Document(page_content=' — I \\nknow some people call it a', metadata={'source': 'MachineLearning-Lecture01.pdf', 'page': 8}),\n",
       " Document(page_content=' free ve rsion of MATLAB, which it', metadata={'source': 'MachineLearning-Lecture01.pdf', 'page': 8}),\n",
       " Document(page_content=\" sort  of is, sort of isn't.\", metadata={'source': 'MachineLearning-Lecture01.pdf', 'page': 8}),\n",
       " Document(page_content='  \\nSo I guess for those of you', metadata={'source': 'MachineLearning-Lecture01.pdf', 'page': 8}),\n",
       " Document(page_content=\" that haven't s een MATLAB before,\", metadata={'source': 'MachineLearning-Lecture01.pdf', 'page': 8}),\n",
       " Document(page_content=' and I know most of you \\nhave,', metadata={'source': 'MachineLearning-Lecture01.pdf', 'page': 8}),\n",
       " Document(page_content=' MATLAB is I guess part of the programming language', metadata={'source': 'MachineLearning-Lecture01.pdf', 'page': 8}),\n",
       " Document(page_content=' that makes it very easy to write codes using mat', metadata={'source': 'MachineLearning-Lecture01.pdf', 'page': 8}),\n",
       " Document(page_content='rices, to write code for numerical routines, to', metadata={'source': 'MachineLearning-Lecture01.pdf', 'page': 8}),\n",
       " Document(page_content=' move data around, to \\nplot data.', metadata={'source': 'MachineLearning-Lecture01.pdf', 'page': 8}),\n",
       " Document(page_content=\" And it's sort of an extremely easy to \", metadata={'source': 'MachineLearning-Lecture01.pdf', 'page': 8}),\n",
       " Document(page_content=' learn tool to use for implementing a lot of ', metadata={'source': 'MachineLearning-Lecture01.pdf', 'page': 8}),\n",
       " Document(page_content='\\nlearning algorithms.  \\nAnd in case', metadata={'source': 'MachineLearning-Lecture01.pdf', 'page': 8}),\n",
       " Document(page_content=' some of you want to work on your  own', metadata={'source': 'MachineLearning-Lecture01.pdf', 'page': 8}),\n",
       " Document(page_content=\" home computer or something if you \\ndon't\", metadata={'source': 'MachineLearning-Lecture01.pdf', 'page': 8}),\n",
       " Document(page_content=' have a MATLAB license, for the purposes of', metadata={'source': 'MachineLearning-Lecture01.pdf', 'page': 8}),\n",
       " Document(page_content=\"  this class, there's also — [ina\", metadata={'source': 'MachineLearning-Lecture01.pdf', 'page': 8}),\n",
       " Document(page_content='udible] \\nwrite that down [ina', metadata={'source': 'MachineLearning-Lecture01.pdf', 'page': 8}),\n",
       " Document(page_content=\"udible] MATLAB — there' s also\", metadata={'source': 'MachineLearning-Lecture01.pdf', 'page': 8}),\n",
       " Document(page_content=' a software package called Octave \\nthat you', metadata={'source': 'MachineLearning-Lecture01.pdf', 'page': 8}),\n",
       " Document(page_content=' can download for free off the Internet. And it', metadata={'source': 'MachineLearning-Lecture01.pdf', 'page': 8}),\n",
       " Document(page_content=' has somewhat fewer features than MATLAB, but it', metadata={'source': 'MachineLearning-Lecture01.pdf', 'page': 8}),\n",
       " Document(page_content=\"'s free, and for the purposes of  this\", metadata={'source': 'MachineLearning-Lecture01.pdf', 'page': 8}),\n",
       " Document(page_content=' class, it will work for just about \\n', metadata={'source': 'MachineLearning-Lecture01.pdf', 'page': 8}),\n",
       " Document(page_content='everything.  \\nSo actually I, well', metadata={'source': 'MachineLearning-Lecture01.pdf', 'page': 8}),\n",
       " Document(page_content=', so yeah, just a side comment for those', metadata={'source': 'MachineLearning-Lecture01.pdf', 'page': 8}),\n",
       " Document(page_content=\" of you that haven't seen \\nMATLAB\", metadata={'source': 'MachineLearning-Lecture01.pdf', 'page': 8}),\n",
       " Document(page_content=' before I guess, once a colleague of mine at', metadata={'source': 'MachineLearning-Lecture01.pdf', 'page': 8}),\n",
       " Document(page_content=' a different university, not at \\nStanford', metadata={'source': 'MachineLearning-Lecture01.pdf', 'page': 8}),\n",
       " Document(page_content=', actually teaches another machine l earning course. He', metadata={'source': 'MachineLearning-Lecture01.pdf', 'page': 8}),\n",
       " Document(page_content=\"'s taught it for many years. \\nSo\", metadata={'source': 'MachineLearning-Lecture01.pdf', 'page': 8}),\n",
       " Document(page_content=' one day, he was in his office, and', metadata={'source': 'MachineLearning-Lecture01.pdf', 'page': 8}),\n",
       " Document(page_content=' an old student of his from, lik e,', metadata={'source': 'MachineLearning-Lecture01.pdf', 'page': 8}),\n",
       " Document(page_content=' ten years ago came \\ninto his office and', metadata={'source': 'MachineLearning-Lecture01.pdf', 'page': 8}),\n",
       " Document(page_content=' he said, \"Oh, professo r,', metadata={'source': 'MachineLearning-Lecture01.pdf', 'page': 8}),\n",
       " Document(page_content=' professor, thank you so much for your \\n', metadata={'source': 'MachineLearning-Lecture01.pdf', 'page': 8}),\n",
       " Document(page_content='machine learning class. I learned so much from it', metadata={'source': 'MachineLearning-Lecture01.pdf', 'page': 8}),\n",
       " Document(page_content=\". There's this stuff that I learned in your\", metadata={'source': 'MachineLearning-Lecture01.pdf', 'page': 8}),\n",
       " Document(page_content=' \\nclass, and I now use every day', metadata={'source': 'MachineLearning-Lecture01.pdf', 'page': 8}),\n",
       " Document(page_content=\". And it's help ed me make lots of\", metadata={'source': 'MachineLearning-Lecture01.pdf', 'page': 8}),\n",
       " Document(page_content=\" money, and here's a \\npicture of\", metadata={'source': 'MachineLearning-Lecture01.pdf', 'page': 8}),\n",
       " Document(page_content=' my big house.\"  \\nSo my friend', metadata={'source': 'MachineLearning-Lecture01.pdf', 'page': 8}),\n",
       " Document(page_content=' was very excited. He said, \"W ow', metadata={'source': 'MachineLearning-Lecture01.pdf', 'page': 8}),\n",
       " Document(page_content=\". That's great. I'm glad to hear\", metadata={'source': 'MachineLearning-Lecture01.pdf', 'page': 8}),\n",
       " Document(page_content=' this \\nmachine learning stuff was actually useful.', metadata={'source': 'MachineLearning-Lecture01.pdf', 'page': 8}),\n",
       " Document(page_content=' So what was it that you learned? Was it', metadata={'source': 'MachineLearning-Lecture01.pdf', 'page': 8}),\n",
       " Document(page_content=' \\nlogistic regression? Was it the PC', metadata={'source': 'MachineLearning-Lecture01.pdf', 'page': 8}),\n",
       " Document(page_content='A? Was it the data ne tworks?', metadata={'source': 'MachineLearning-Lecture01.pdf', 'page': 8}),\n",
       " Document(page_content=' What was it that you \\nlearned that', metadata={'source': 'MachineLearning-Lecture01.pdf', 'page': 8}),\n",
       " Document(page_content=' was so helpful?\" And the student said, \"', metadata={'source': 'MachineLearning-Lecture01.pdf', 'page': 8}),\n",
       " Document(page_content='Oh, it was the MATLAB.\"  ', metadata={'source': 'MachineLearning-Lecture01.pdf', 'page': 8}),\n",
       " Document(page_content=\"\\nSo for those of you that don't know\", metadata={'source': 'MachineLearning-Lecture01.pdf', 'page': 8}),\n",
       " Document(page_content=' MATLAB yet, I hope you do learn it', metadata={'source': 'MachineLearning-Lecture01.pdf', 'page': 8}),\n",
       " Document(page_content=\". It's not hard, \\nand we\", metadata={'source': 'MachineLearning-Lecture01.pdf', 'page': 8}),\n",
       " Document(page_content=\"'ll actually have a short MATLAB tutori al\", metadata={'source': 'MachineLearning-Lecture01.pdf', 'page': 8}),\n",
       " Document(page_content=' in one of the discussion sections for \\nthose', metadata={'source': 'MachineLearning-Lecture01.pdf', 'page': 8}),\n",
       " Document(page_content=\" of you that don't know it.  \", metadata={'source': 'MachineLearning-Lecture01.pdf', 'page': 8}),\n",
       " Document(page_content='\\nOkay. The very last piece of logistical th', metadata={'source': 'MachineLearning-Lecture01.pdf', 'page': 8}),\n",
       " Document(page_content=' ing is the discussion s ections. So discussion', metadata={'source': 'MachineLearning-Lecture01.pdf', 'page': 8}),\n",
       " Document(page_content=' \\nsections will be taught by the TAs', metadata={'source': 'MachineLearning-Lecture01.pdf', 'page': 8}),\n",
       " Document(page_content=', and atte ndance at discussion sections', metadata={'source': 'MachineLearning-Lecture01.pdf', 'page': 8}),\n",
       " Document(page_content=\" is optional, \\nalthough they'll also be\", metadata={'source': 'MachineLearning-Lecture01.pdf', 'page': 8}),\n",
       " Document(page_content=\" recorded and televi sed. And we'll use\", metadata={'source': 'MachineLearning-Lecture01.pdf', 'page': 8}),\n",
       " Document(page_content=' the discussion sections \\nmainly for two things', metadata={'source': 'MachineLearning-Lecture01.pdf', 'page': 8}),\n",
       " Document(page_content='. For the next two or th ree weeks', metadata={'source': 'MachineLearning-Lecture01.pdf', 'page': 8}),\n",
       " Document(page_content=\", we'll use the discussion sections \\nto\", metadata={'source': 'MachineLearning-Lecture01.pdf', 'page': 8}),\n",
       " Document(page_content=' go over the prerequisites to this class or if', metadata={'source': 'MachineLearning-Lecture01.pdf', 'page': 8}),\n",
       " Document(page_content=\" some of you haven't seen probability or \\n\", metadata={'source': 'MachineLearning-Lecture01.pdf', 'page': 8}),\n",
       " Document(page_content='statistics for a while or maybe algebra, we', metadata={'source': 'MachineLearning-Lecture01.pdf', 'page': 8}),\n",
       " Document(page_content=\"'ll go over those in the discussion sections as a\", metadata={'source': 'MachineLearning-Lecture01.pdf', 'page': 8}),\n",
       " Document(page_content=' \\nrefresher for those of you that', metadata={'source': 'MachineLearning-Lecture01.pdf', 'page': 8}),\n",
       " Document(page_content=' want one.  \\nLater in this quarter', metadata={'source': 'MachineLearning-Lecture01.pdf', 'page': 8}),\n",
       " Document(page_content=\", we'll also use the disc ussion\", metadata={'source': 'MachineLearning-Lecture01.pdf', 'page': 8}),\n",
       " Document(page_content=' sections to go over extensions for the \\nmaterial', metadata={'source': 'MachineLearning-Lecture01.pdf', 'page': 8}),\n",
       " Document(page_content=\" that I'm teaching in the main lectur es\", metadata={'source': 'MachineLearning-Lecture01.pdf', 'page': 8}),\n",
       " Document(page_content='. So machine learning is a huge field, and', metadata={'source': 'MachineLearning-Lecture01.pdf', 'page': 8}),\n",
       " Document(page_content=' \\nthere are a few extensions that we really', metadata={'source': 'MachineLearning-Lecture01.pdf', 'page': 8}),\n",
       " Document(page_content=\" want  to teach but didn't have time in\", metadata={'source': 'MachineLearning-Lecture01.pdf', 'page': 8}),\n",
       " Document(page_content=' the main \\nlectures for.  ', metadata={'source': 'MachineLearning-Lecture01.pdf', 'page': 8}),\n",
       " Document(page_content=\"So later this quarter, we'll use the discussion\", metadata={'source': 'MachineLearning-Lecture01.pdf', 'page': 9}),\n",
       " Document(page_content=' sections to talk about things like convex \\n', metadata={'source': 'MachineLearning-Lecture01.pdf', 'page': 9}),\n",
       " Document(page_content='optimization, to talk a little bit about h', metadata={'source': 'MachineLearning-Lecture01.pdf', 'page': 9}),\n",
       " Document(page_content='idde n Markov models, which is a', metadata={'source': 'MachineLearning-Lecture01.pdf', 'page': 9}),\n",
       " Document(page_content=' type of machine \\nlearning algorithm for modeling time', metadata={'source': 'MachineLearning-Lecture01.pdf', 'page': 9}),\n",
       " Document(page_content=' series and a few other things, so  extensions', metadata={'source': 'MachineLearning-Lecture01.pdf', 'page': 9}),\n",
       " Document(page_content=\" to the \\nmaterials that I'll be\", metadata={'source': 'MachineLearning-Lecture01.pdf', 'page': 9}),\n",
       " Document(page_content=' covering in the main  lectures. And attend an', metadata={'source': 'MachineLearning-Lecture01.pdf', 'page': 9}),\n",
       " Document(page_content='ce at the discussion \\nsections is optional,', metadata={'source': 'MachineLearning-Lecture01.pdf', 'page': 9}),\n",
       " Document(page_content=' okay?  \\nSo that was all I', metadata={'source': 'MachineLearning-Lecture01.pdf', 'page': 9}),\n",
       " Document(page_content=' had from l ogistics. Before we move', metadata={'source': 'MachineLearning-Lecture01.pdf', 'page': 9}),\n",
       " Document(page_content=' on to start talking a bit about \\nmachine', metadata={'source': 'MachineLearning-Lecture01.pdf', 'page': 9}),\n",
       " Document(page_content=' learning, let me check what questions you have.', metadata={'source': 'MachineLearning-Lecture01.pdf', 'page': 9}),\n",
       " Document(page_content=' Yeah?  \\nStudent : [Inaud', metadata={'source': 'MachineLearning-Lecture01.pdf', 'page': 9}),\n",
       " Document(page_content='ible] R or something like that?  ', metadata={'source': 'MachineLearning-Lecture01.pdf', 'page': 9}),\n",
       " Document(page_content='\\nInstructor (Andrew Ng) : Oh,', metadata={'source': 'MachineLearning-Lecture01.pdf', 'page': 9}),\n",
       " Document(page_content=\" yeah, let's see, right. So our\", metadata={'source': 'MachineLearning-Lecture01.pdf', 'page': 9}),\n",
       " Document(page_content=\" policy has been that you're \\nwelcome\", metadata={'source': 'MachineLearning-Lecture01.pdf', 'page': 9}),\n",
       " Document(page_content=' to use R, but I would strongly advi', metadata={'source': 'MachineLearning-Lecture01.pdf', 'page': 9}),\n",
       " Document(page_content=' se against it, mainly because in the last ', metadata={'source': 'MachineLearning-Lecture01.pdf', 'page': 9}),\n",
       " Document(page_content='\\nproblem set, we actually supply some code th', metadata={'source': 'MachineLearning-Lecture01.pdf', 'page': 9}),\n",
       " Document(page_content=' at will run in Octave  but that would', metadata={'source': 'MachineLearning-Lecture01.pdf', 'page': 9}),\n",
       " Document(page_content=' be \\nsomewhat painful for you to', metadata={'source': 'MachineLearning-Lecture01.pdf', 'page': 9}),\n",
       " Document(page_content=' translate into R yourself. So for your other assignments', metadata={'source': 'MachineLearning-Lecture01.pdf', 'page': 9}),\n",
       " Document(page_content=', if \\nyou wanna submit a solution in', metadata={'source': 'MachineLearning-Lecture01.pdf', 'page': 9}),\n",
       " Document(page_content=\" R, that's fi ne. But I think\", metadata={'source': 'MachineLearning-Lecture01.pdf', 'page': 9}),\n",
       " Document(page_content=' MATLAB is actually totally \\nworth learning.', metadata={'source': 'MachineLearning-Lecture01.pdf', 'page': 9}),\n",
       " Document(page_content=' I know R and MATLAB, and I personally', metadata={'source': 'MachineLearning-Lecture01.pdf', 'page': 9}),\n",
       " Document(page_content=' end up using MATLAB quite a \\nbit', metadata={'source': 'MachineLearning-Lecture01.pdf', 'page': 9}),\n",
       " Document(page_content=' more often for various reasons. Yeah?  ', metadata={'source': 'MachineLearning-Lecture01.pdf', 'page': 9}),\n",
       " Document(page_content='\\nStudent : For the [inaudible]', metadata={'source': 'MachineLearning-Lecture01.pdf', 'page': 9}),\n",
       " Document(page_content=' pr oject [inaudible]? ', metadata={'source': 'MachineLearning-Lecture01.pdf', 'page': 9}),\n",
       " Document(page_content=' \\nInstructor (Andrew Ng) : So', metadata={'source': 'MachineLearning-Lecture01.pdf', 'page': 9}),\n",
       " Document(page_content=\" for the term project, you're welcome to do\", metadata={'source': 'MachineLearning-Lecture01.pdf', 'page': 9}),\n",
       " Document(page_content=' it in smaller \\ngroups of three, or', metadata={'source': 'MachineLearning-Lecture01.pdf', 'page': 9}),\n",
       " Document(page_content=\" you're welcome to do it by yo urself\", metadata={'source': 'MachineLearning-Lecture01.pdf', 'page': 9}),\n",
       " Document(page_content=' or in groups of two. Grading is the', metadata={'source': 'MachineLearning-Lecture01.pdf', 'page': 9}),\n",
       " Document(page_content=' \\nsame regardless of the group size, so', metadata={'source': 'MachineLearning-Lecture01.pdf', 'page': 9}),\n",
       " Document(page_content=' with  a larger group, you probably — I', metadata={'source': 'MachineLearning-Lecture01.pdf', 'page': 9}),\n",
       " Document(page_content=' recommend \\ntrying to form a team,', metadata={'source': 'MachineLearning-Lecture01.pdf', 'page': 9}),\n",
       " Document(page_content=\" but it's actually totally fine to do it in\", metadata={'source': 'MachineLearning-Lecture01.pdf', 'page': 9}),\n",
       " Document(page_content=' a sma ller group if you want.', metadata={'source': 'MachineLearning-Lecture01.pdf', 'page': 9}),\n",
       " Document(page_content='  \\nStudent : [Inaudible]', metadata={'source': 'MachineLearning-Lecture01.pdf', 'page': 9}),\n",
       " Document(page_content=' what language [inaudible]?  ', metadata={'source': 'MachineLearning-Lecture01.pdf', 'page': 9}),\n",
       " Document(page_content=\"\\nInstructor (Andrew Ng): So let's\", metadata={'source': 'MachineLearning-Lecture01.pdf', 'page': 9}),\n",
       " Document(page_content=' see. There is no C programming in this class', metadata={'source': 'MachineLearning-Lecture01.pdf', 'page': 9}),\n",
       " Document(page_content=' other \\nthan any that you may choose to', metadata={'source': 'MachineLearning-Lecture01.pdf', 'page': 9}),\n",
       " Document(page_content=' do yourself in your project. So all the hom', metadata={'source': 'MachineLearning-Lecture01.pdf', 'page': 9}),\n",
       " Document(page_content='eworks can be \\ndone in MATLAB or', metadata={'source': 'MachineLearning-Lecture01.pdf', 'page': 9}),\n",
       " Document(page_content=\" Octave, and let's see. A n\", metadata={'source': 'MachineLearning-Lecture01.pdf', 'page': 9}),\n",
       " Document(page_content='d I guess the program prerequisites is more ', metadata={'source': 'MachineLearning-Lecture01.pdf', 'page': 9}),\n",
       " Document(page_content='\\nthe ability to understand big?O notation and', metadata={'source': 'MachineLearning-Lecture01.pdf', 'page': 9}),\n",
       " Document(page_content=' know ledge of what a data structure, like a', metadata={'source': 'MachineLearning-Lecture01.pdf', 'page': 9}),\n",
       " Document(page_content=' \\nlinked list or a queue or bina', metadata={'source': 'MachineLearning-Lecture01.pdf', 'page': 9}),\n",
       " Document(page_content=' ry treatments, more so than  your knowledge', metadata={'source': 'MachineLearning-Lecture01.pdf', 'page': 9}),\n",
       " Document(page_content=' of C or Java \\nspecifically. Yeah', metadata={'source': 'MachineLearning-Lecture01.pdf', 'page': 9}),\n",
       " Document(page_content='?  \\nStudent : Looking at the end', metadata={'source': 'MachineLearning-Lecture01.pdf', 'page': 9}),\n",
       " Document(page_content=' semester project, I mean, what exactly will you', metadata={'source': 'MachineLearning-Lecture01.pdf', 'page': 9}),\n",
       " Document(page_content=' be testing \\nover there? [Inaud', metadata={'source': 'MachineLearning-Lecture01.pdf', 'page': 9}),\n",
       " Document(page_content='ible]?  \\nInstructor (Andrew', metadata={'source': 'MachineLearning-Lecture01.pdf', 'page': 9}),\n",
       " Document(page_content=' Ng) : Of the project?  \\n', metadata={'source': 'MachineLearning-Lecture01.pdf', 'page': 9}),\n",
       " Document(page_content='Student : Yeah.  \\nInstructor (', metadata={'source': 'MachineLearning-Lecture01.pdf', 'page': 9}),\n",
       " Document(page_content='Andrew Ng) : Yeah, let me answer that', metadata={'source': 'MachineLearning-Lecture01.pdf', 'page': 9}),\n",
       " Document(page_content=' later.  In a couple of weeks, I', metadata={'source': 'MachineLearning-Lecture01.pdf', 'page': 9}),\n",
       " Document(page_content=' shall \\ngive out a handout with guidelines', metadata={'source': 'MachineLearning-Lecture01.pdf', 'page': 9}),\n",
       " Document(page_content=' for the pr oject. But for now,', metadata={'source': 'MachineLearning-Lecture01.pdf', 'page': 9}),\n",
       " Document(page_content=' we should think of the \\ngoal as being', metadata={'source': 'MachineLearning-Lecture01.pdf', 'page': 9}),\n",
       " Document(page_content=' to do a cool piec e of machine learning', metadata={'source': 'MachineLearning-Lecture01.pdf', 'page': 9}),\n",
       " Document(page_content=' work that  will let you experience the ', metadata={'source': 'MachineLearning-Lecture01.pdf', 'page': 9}),\n",
       " Document(page_content='joys of machine learning firs thand and', metadata={'source': 'MachineLearning-Lecture01.pdf', 'page': 10}),\n",
       " Document(page_content=' really try to think about doing a publishable piece', metadata={'source': 'MachineLearning-Lecture01.pdf', 'page': 10}),\n",
       " Document(page_content=' \\nof work.  \\nSo many', metadata={'source': 'MachineLearning-Lecture01.pdf', 'page': 10}),\n",
       " Document(page_content=' students will try to build a cool machine learning application', metadata={'source': 'MachineLearning-Lecture01.pdf', 'page': 10}),\n",
       " Document(page_content=\". That's probably \\nthe most common project\", metadata={'source': 'MachineLearning-Lecture01.pdf', 'page': 10}),\n",
       " Document(page_content='. Some students will try to improve state-of', metadata={'source': 'MachineLearning-Lecture01.pdf', 'page': 10}),\n",
       " Document(page_content='-the-art machine \\nlearning. Some', metadata={'source': 'MachineLearning-Lecture01.pdf', 'page': 10}),\n",
       " Document(page_content=' of those projects are also very  successful. It', metadata={'source': 'MachineLearning-Lecture01.pdf', 'page': 10}),\n",
       " Document(page_content=\"'s a littl e bit harder to do\", metadata={'source': 'MachineLearning-Lecture01.pdf', 'page': 10}),\n",
       " Document(page_content=\". And \\nthere's also a smaller minority\", metadata={'source': 'MachineLearning-Lecture01.pdf', 'page': 10}),\n",
       " Document(page_content=' of students th at will sometimes try to prove —', metadata={'source': 'MachineLearning-Lecture01.pdf', 'page': 10}),\n",
       " Document(page_content=' develop the \\ntheory of machine learning further', metadata={'source': 'MachineLearning-Lecture01.pdf', 'page': 10}),\n",
       " Document(page_content=' or try to  prove theorems about machine', metadata={'source': 'MachineLearning-Lecture01.pdf', 'page': 10}),\n",
       " Document(page_content=\" learning. So \\nthey're usually great projects\", metadata={'source': 'MachineLearning-Lecture01.pdf', 'page': 10}),\n",
       " Document(page_content=' of all of those types with applications and machine learning', metadata={'source': 'MachineLearning-Lecture01.pdf', 'page': 10}),\n",
       " Document(page_content=' \\nbeing the most common. Anything else?', metadata={'source': 'MachineLearning-Lecture01.pdf', 'page': 10}),\n",
       " Document(page_content=' Okay, cool.  \\nSo that was', metadata={'source': 'MachineLearning-Lecture01.pdf', 'page': 10}),\n",
       " Document(page_content=\" it for logistics. Let's talk about  learning\", metadata={'source': 'MachineLearning-Lecture01.pdf', 'page': 10}),\n",
       " Document(page_content=' algorithms. So can I have the laptop \\n', metadata={'source': 'MachineLearning-Lecture01.pdf', 'page': 10}),\n",
       " Document(page_content='display, please, or the projector? Actually,', metadata={'source': 'MachineLearning-Lecture01.pdf', 'page': 10}),\n",
       " Document(page_content=' co uld you lower the big sc reen', metadata={'source': 'MachineLearning-Lecture01.pdf', 'page': 10}),\n",
       " Document(page_content='? Cool. This is \\namazing customer', metadata={'source': 'MachineLearning-Lecture01.pdf', 'page': 10}),\n",
       " Document(page_content=' service. Thank you. I see. Okay,', metadata={'source': 'MachineLearning-Lecture01.pdf', 'page': 10}),\n",
       " Document(page_content=\" cool. Okay. No, that's fine.\", metadata={'source': 'MachineLearning-Lecture01.pdf', 'page': 10}),\n",
       " Document(page_content=\" I see. \\nOkay. That's cool\", metadata={'source': 'MachineLearning-Lecture01.pdf', 'page': 10}),\n",
       " Document(page_content='. Thanks. Okay.  \\nBig screen', metadata={'source': 'MachineLearning-Lecture01.pdf', 'page': 10}),\n",
       " Document(page_content=\" isn't working toda y, but I hope\", metadata={'source': 'MachineLearning-Lecture01.pdf', 'page': 10}),\n",
       " Document(page_content=' you can read things  on the smaller screens out', metadata={'source': 'MachineLearning-Lecture01.pdf', 'page': 10}),\n",
       " Document(page_content=' \\nthere. Actually, [inaudible', metadata={'source': 'MachineLearning-Lecture01.pdf', 'page': 10}),\n",
       " Document(page_content='] I think this room just got a new projector', metadata={'source': 'MachineLearning-Lecture01.pdf', 'page': 10}),\n",
       " Document(page_content=' that — someone \\nsent you an excited email', metadata={'source': 'MachineLearning-Lecture01.pdf', 'page': 10}),\n",
       " Document(page_content=' — was it just on Frid ay? —', metadata={'source': 'MachineLearning-Lecture01.pdf', 'page': 10}),\n",
       " Document(page_content=' saying we just got a new projector \\nand', metadata={'source': 'MachineLearning-Lecture01.pdf', 'page': 10}),\n",
       " Document(page_content=' they said 4,000-to-1 something', metadata={'source': 'MachineLearning-Lecture01.pdf', 'page': 10}),\n",
       " Document(page_content=\" or othe r brightness ratio. I don't\", metadata={'source': 'MachineLearning-Lecture01.pdf', 'page': 10}),\n",
       " Document(page_content=' know. Someone was \\nvery excited about the', metadata={'source': 'MachineLearning-Lecture01.pdf', 'page': 10}),\n",
       " Document(page_content=' new projector in this room, but I guess we', metadata={'source': 'MachineLearning-Lecture01.pdf', 'page': 10}),\n",
       " Document(page_content=\"'ll see that in operation \\non Wednesday.\", metadata={'source': 'MachineLearning-Lecture01.pdf', 'page': 10}),\n",
       " Document(page_content='  \\nSo start by talking about what machine', metadata={'source': 'MachineLearning-Lecture01.pdf', 'page': 10}),\n",
       " Document(page_content=' learni ng is. What is machine learning?', metadata={'source': 'MachineLearning-Lecture01.pdf', 'page': 10}),\n",
       " Document(page_content=' Actually, \\ncan you read the text out', metadata={'source': 'MachineLearning-Lecture01.pdf', 'page': 10}),\n",
       " Document(page_content=' there? Raise your hand if the text on the', metadata={'source': 'MachineLearning-Lecture01.pdf', 'page': 10}),\n",
       " Document(page_content=' small screens is legible. \\nOh,', metadata={'source': 'MachineLearning-Lecture01.pdf', 'page': 10}),\n",
       " Document(page_content=' okay, cool, mostly legible. Okay.', metadata={'source': 'MachineLearning-Lecture01.pdf', 'page': 10}),\n",
       " Document(page_content=\" So I'll just read it out.  \", metadata={'source': 'MachineLearning-Lecture01.pdf', 'page': 10}),\n",
       " Document(page_content='\\nSo what is machine learning? Way back in', metadata={'source': 'MachineLearning-Lecture01.pdf', 'page': 10}),\n",
       " Document(page_content='  about 1959, Arthur Samuel defined machine \\n', metadata={'source': 'MachineLearning-Lecture01.pdf', 'page': 10}),\n",
       " Document(page_content='learning informally as the [inaudible]', metadata={'source': 'MachineLearning-Lecture01.pdf', 'page': 10}),\n",
       " Document(page_content=' that gives computers to learn — [inaudible', metadata={'source': 'MachineLearning-Lecture01.pdf', 'page': 10}),\n",
       " Document(page_content='] that \\ngives computers the ability to', metadata={'source': 'MachineLearning-Lecture01.pdf', 'page': 10}),\n",
       " Document(page_content=' learn without  being explicitly programmed. So Arthur ', metadata={'source': 'MachineLearning-Lecture01.pdf', 'page': 10}),\n",
       " Document(page_content='\\nSamuel, so way back in the history', metadata={'source': 'MachineLearning-Lecture01.pdf', 'page': 10}),\n",
       " Document(page_content=' of m achine learning, actually did something', metadata={'source': 'MachineLearning-Lecture01.pdf', 'page': 10}),\n",
       " Document(page_content=' very \\ncool, which was he wrote a', metadata={'source': 'MachineLearning-Lecture01.pdf', 'page': 10}),\n",
       " Document(page_content=' checkers progr am, which would play games', metadata={'source': 'MachineLearning-Lecture01.pdf', 'page': 10}),\n",
       " Document(page_content=' of checkers \\nagainst itself.  ', metadata={'source': 'MachineLearning-Lecture01.pdf', 'page': 10}),\n",
       " Document(page_content='\\nAnd so because a computer can play thousands ', metadata={'source': 'MachineLearning-Lecture01.pdf', 'page': 10}),\n",
       " Document(page_content=' of games against itself relatively quickly, \\nArthur', metadata={'source': 'MachineLearning-Lecture01.pdf', 'page': 10}),\n",
       " Document(page_content=' Samuel had his program play thousands  of games against', metadata={'source': 'MachineLearning-Lecture01.pdf', 'page': 10}),\n",
       " Document(page_content=' itself, and over time it \\nwould start', metadata={'source': 'MachineLearning-Lecture01.pdf', 'page': 10}),\n",
       " Document(page_content=' to learn to rec ognize patterns which led', metadata={'source': 'MachineLearning-Lecture01.pdf', 'page': 10}),\n",
       " Document(page_content=' to wi ns and patterns which led to \\n', metadata={'source': 'MachineLearning-Lecture01.pdf', 'page': 10}),\n",
       " Document(page_content='losses. So over time it learned things like', metadata={'source': 'MachineLearning-Lecture01.pdf', 'page': 10}),\n",
       " Document(page_content=' that , \"Gee, if I get a', metadata={'source': 'MachineLearning-Lecture01.pdf', 'page': 10}),\n",
       " Document(page_content=' lot of pieces taken by the \\nopponent', metadata={'source': 'MachineLearning-Lecture01.pdf', 'page': 10}),\n",
       " Document(page_content=\", then I'm more likely to lose than win\", metadata={'source': 'MachineLearning-Lecture01.pdf', 'page': 10}),\n",
       " Document(page_content=',\" or, \"Gee, if I get', metadata={'source': 'MachineLearning-Lecture01.pdf', 'page': 10}),\n",
       " Document(page_content=' my pieces into a \\ncertain position, then', metadata={'source': 'MachineLearning-Lecture01.pdf', 'page': 10}),\n",
       " Document(page_content=\" I'm especially li kely to win rather than\", metadata={'source': 'MachineLearning-Lecture01.pdf', 'page': 10}),\n",
       " Document(page_content=' lose.\"  \\nAnd so over time,', metadata={'source': 'MachineLearning-Lecture01.pdf', 'page': 10}),\n",
       " Document(page_content=' Arthur Samuel had a check ers program that w', metadata={'source': 'MachineLearning-Lecture01.pdf', 'page': 10}),\n",
       " Document(page_content='oul d actually learn to \\nplay checkers', metadata={'source': 'MachineLearning-Lecture01.pdf', 'page': 10}),\n",
       " Document(page_content=' by learning what are the sort of  board positions', metadata={'source': 'MachineLearning-Lecture01.pdf', 'page': 10}),\n",
       " Document(page_content=' that tend to be associated \\nwith wins and', metadata={'source': 'MachineLearning-Lecture01.pdf', 'page': 10}),\n",
       " Document(page_content=' what are the boa rd positions that tend', metadata={'source': 'MachineLearning-Lecture01.pdf', 'page': 10}),\n",
       " Document(page_content=' to be associated with losses. And \\nway', metadata={'source': 'MachineLearning-Lecture01.pdf', 'page': 10}),\n",
       " Document(page_content=' back around 1959, the amazing thing about this was', metadata={'source': 'MachineLearning-Lecture01.pdf', 'page': 10}),\n",
       " Document(page_content=' that his program actually \\nlearned to play', metadata={'source': 'MachineLearning-Lecture01.pdf', 'page': 10}),\n",
       " Document(page_content=' checkers much better than Arthur Samuel  himself could', metadata={'source': 'MachineLearning-Lecture01.pdf', 'page': 10}),\n",
       " Document(page_content='.  ', metadata={'source': 'MachineLearning-Lecture01.pdf', 'page': 10}),\n",
       " Document(page_content='So even today, there are some people that say', metadata={'source': 'MachineLearning-Lecture01.pdf', 'page': 11}),\n",
       " Document(page_content=\", well, computers can't do anything that \", metadata={'source': 'MachineLearning-Lecture01.pdf', 'page': 11}),\n",
       " Document(page_content=\"\\nthey're not explicitly programmed to. And Ar\", metadata={'source': 'MachineLearning-Lecture01.pdf', 'page': 11}),\n",
       " Document(page_content=\" thur Samuel's checkers program was maybe \", metadata={'source': 'MachineLearning-Lecture01.pdf', 'page': 11}),\n",
       " Document(page_content='\\nthe first I think really convi ncing', metadata={'source': 'MachineLearning-Lecture01.pdf', 'page': 11}),\n",
       " Document(page_content=' refutation of this clai m. Namely', metadata={'source': 'MachineLearning-Lecture01.pdf', 'page': 11}),\n",
       " Document(page_content=', Arthur Samuel \\nmanaged to write a check', metadata={'source': 'MachineLearning-Lecture01.pdf', 'page': 11}),\n",
       " Document(page_content='ers program that could play checkers much better than', metadata={'source': 'MachineLearning-Lecture01.pdf', 'page': 11}),\n",
       " Document(page_content=' he \\npersonally could, and this is', metadata={'source': 'MachineLearning-Lecture01.pdf', 'page': 11}),\n",
       " Document(page_content=' an instance of maybe computers learning to do things that', metadata={'source': 'MachineLearning-Lecture01.pdf', 'page': 11}),\n",
       " Document(page_content=' \\nthey were not programmed explicitly to do.', metadata={'source': 'MachineLearning-Lecture01.pdf', 'page': 11}),\n",
       " Document(page_content=\"  \\nHere's a more recent, a\", metadata={'source': 'MachineLearning-Lecture01.pdf', 'page': 11}),\n",
       " Document(page_content=' more modern, more formal definition of machine learning due', metadata={'source': 'MachineLearning-Lecture01.pdf', 'page': 11}),\n",
       " Document(page_content=' to \\nTom Mitchell, who says that a', metadata={'source': 'MachineLearning-Lecture01.pdf', 'page': 11}),\n",
       " Document(page_content=' well-posed le arning problem is defined as', metadata={'source': 'MachineLearning-Lecture01.pdf', 'page': 11}),\n",
       " Document(page_content=' follows: He \\nsays that a computer', metadata={'source': 'MachineLearning-Lecture01.pdf', 'page': 11}),\n",
       " Document(page_content=' program is set to lear n from an experience E', metadata={'source': 'MachineLearning-Lecture01.pdf', 'page': 11}),\n",
       " Document(page_content=' with respect to some \\ntask T and some', metadata={'source': 'MachineLearning-Lecture01.pdf', 'page': 11}),\n",
       " Document(page_content=' performance measure P if  its performance on T as', metadata={'source': 'MachineLearning-Lecture01.pdf', 'page': 11}),\n",
       " Document(page_content=' measured by P \\nimproves with experience E', metadata={'source': 'MachineLearning-Lecture01.pdf', 'page': 11}),\n",
       " Document(page_content='. Okay. So not  only is it a', metadata={'source': 'MachineLearning-Lecture01.pdf', 'page': 11}),\n",
       " Document(page_content=' definition, it even rhymes.  \\n', metadata={'source': 'MachineLearning-Lecture01.pdf', 'page': 11}),\n",
       " Document(page_content='So, for example, in the case of check', metadata={'source': 'MachineLearning-Lecture01.pdf', 'page': 11}),\n",
       " Document(page_content='ers, th e experience E that a program has', metadata={'source': 'MachineLearning-Lecture01.pdf', 'page': 11}),\n",
       " Document(page_content=' would be \\nthe experience of playing lots of', metadata={'source': 'MachineLearning-Lecture01.pdf', 'page': 11}),\n",
       " Document(page_content=' games of checkers against itself, say. The', metadata={'source': 'MachineLearning-Lecture01.pdf', 'page': 11}),\n",
       " Document(page_content=' task T is the \\ntask of playing check', metadata={'source': 'MachineLearning-Lecture01.pdf', 'page': 11}),\n",
       " Document(page_content='ers, a nd the performance measure P will', metadata={'source': 'MachineLearning-Lecture01.pdf', 'page': 11}),\n",
       " Document(page_content=' be something like the \\nfraction of games', metadata={'source': 'MachineLearning-Lecture01.pdf', 'page': 11}),\n",
       " Document(page_content=' it wins against a cert ain set of human opponents', metadata={'source': 'MachineLearning-Lecture01.pdf', 'page': 11}),\n",
       " Document(page_content=\". And by this \\ndefinition, we'll\", metadata={'source': 'MachineLearning-Lecture01.pdf', 'page': 11}),\n",
       " Document(page_content=\" say that Arthur Samuel's ch eckers program\", metadata={'source': 'MachineLearning-Lecture01.pdf', 'page': 11}),\n",
       " Document(page_content=' has learned to play checkers, \\nok', metadata={'source': 'MachineLearning-Lecture01.pdf', 'page': 11}),\n",
       " Document(page_content='ay?  \\nSo as an overview of', metadata={'source': 'MachineLearning-Lecture01.pdf', 'page': 11}),\n",
       " Document(page_content=\" what we're going to do in this class,\", metadata={'source': 'MachineLearning-Lecture01.pdf', 'page': 11}),\n",
       " Document(page_content=' this class is sort of organized \\ninto four', metadata={'source': 'MachineLearning-Lecture01.pdf', 'page': 11}),\n",
       " Document(page_content=\" major sections. We're gonna talk about four major\", metadata={'source': 'MachineLearning-Lecture01.pdf', 'page': 11}),\n",
       " Document(page_content=' topics in this class, the first \\nof', metadata={'source': 'MachineLearning-Lecture01.pdf', 'page': 11}),\n",
       " Document(page_content=' which is supervised learning. So le t me give', metadata={'source': 'MachineLearning-Lecture01.pdf', 'page': 11}),\n",
       " Document(page_content=' you an example of that.  \\nSo', metadata={'source': 'MachineLearning-Lecture01.pdf', 'page': 11}),\n",
       " Document(page_content=' suppose you collect a data set of housing prices.', metadata={'source': 'MachineLearning-Lecture01.pdf', 'page': 11}),\n",
       " Document(page_content=' And one of the TAs, Dan Ramage', metadata={'source': 'MachineLearning-Lecture01.pdf', 'page': 11}),\n",
       " Document(page_content=', \\nactually collected a data set for me', metadata={'source': 'MachineLearning-Lecture01.pdf', 'page': 11}),\n",
       " Document(page_content=' last week to use in the example later. But', metadata={'source': 'MachineLearning-Lecture01.pdf', 'page': 11}),\n",
       " Document(page_content=' suppose that \\nyou go to collect statistics about', metadata={'source': 'MachineLearning-Lecture01.pdf', 'page': 11}),\n",
       " Document(page_content=' how much hous es cost in a certain geographic area', metadata={'source': 'MachineLearning-Lecture01.pdf', 'page': 11}),\n",
       " Document(page_content='. And \\nDan, the TA, collected', metadata={'source': 'MachineLearning-Lecture01.pdf', 'page': 11}),\n",
       " Document(page_content=' data from housing pr ices in Portland, Oregon', metadata={'source': 'MachineLearning-Lecture01.pdf', 'page': 11}),\n",
       " Document(page_content='. So what you can do \\nis let', metadata={'source': 'MachineLearning-Lecture01.pdf', 'page': 11}),\n",
       " Document(page_content=\"'s say plot the square footage of the house against\", metadata={'source': 'MachineLearning-Lecture01.pdf', 'page': 11}),\n",
       " Document(page_content=' the list price of  the house, right,', metadata={'source': 'MachineLearning-Lecture01.pdf', 'page': 11}),\n",
       " Document(page_content=' so \\nyou collect data on a bunch of', metadata={'source': 'MachineLearning-Lecture01.pdf', 'page': 11}),\n",
       " Document(page_content=\" houses. And let' s say you get a\", metadata={'source': 'MachineLearning-Lecture01.pdf', 'page': 11}),\n",
       " Document(page_content=' data set like this with \\nhouses of different', metadata={'source': 'MachineLearning-Lecture01.pdf', 'page': 11}),\n",
       " Document(page_content=' sizes that are li sted for different amounts of', metadata={'source': 'MachineLearning-Lecture01.pdf', 'page': 11}),\n",
       " Document(page_content=\" money.  \\nNow, let's say\", metadata={'source': 'MachineLearning-Lecture01.pdf', 'page': 11}),\n",
       " Document(page_content=\" that I'm trying to sell a hous e in\", metadata={'source': 'MachineLearning-Lecture01.pdf', 'page': 11}),\n",
       " Document(page_content=' the same area as Portland, Oregon as \\n', metadata={'source': 'MachineLearning-Lecture01.pdf', 'page': 11}),\n",
       " Document(page_content=\"where the data comes from. Let's say I\", metadata={'source': 'MachineLearning-Lecture01.pdf', 'page': 11}),\n",
       " Document(page_content=\" have a hou se that's this size in\", metadata={'source': 'MachineLearning-Lecture01.pdf', 'page': 11}),\n",
       " Document(page_content=' square footage, and \\nI want an algorithm', metadata={'source': 'MachineLearning-Lecture01.pdf', 'page': 11}),\n",
       " Document(page_content=' to tell me about how much should I expect my', metadata={'source': 'MachineLearning-Lecture01.pdf', 'page': 11}),\n",
       " Document(page_content=' house to sell for. So there are lots of', metadata={'source': 'MachineLearning-Lecture01.pdf', 'page': 11}),\n",
       " Document(page_content=' ways to do this, and some of you may', metadata={'source': 'MachineLearning-Lecture01.pdf', 'page': 11}),\n",
       " Document(page_content=\" have seen elements of what I'm \\nabout\", metadata={'source': 'MachineLearning-Lecture01.pdf', 'page': 11}),\n",
       " Document(page_content=' to say before.  \\nSo one thing', metadata={'source': 'MachineLearning-Lecture01.pdf', 'page': 11}),\n",
       " Document(page_content=' you could do is look at this data and maybe', metadata={'source': 'MachineLearning-Lecture01.pdf', 'page': 11}),\n",
       " Document(page_content=' put a straight  line to it. And then', metadata={'source': 'MachineLearning-Lecture01.pdf', 'page': 11}),\n",
       " Document(page_content=' \\nif this is my house, you may', metadata={'source': 'MachineLearning-Lecture01.pdf', 'page': 11}),\n",
       " Document(page_content=' then look at th e straight line and predict that', metadata={'source': 'MachineLearning-Lecture01.pdf', 'page': 11}),\n",
       " Document(page_content=' my house is \\ngonna go for about', metadata={'source': 'MachineLearning-Lecture01.pdf', 'page': 11}),\n",
       " Document(page_content=' that much money, right? Ther e are other', metadata={'source': 'MachineLearning-Lecture01.pdf', 'page': 11}),\n",
       " Document(page_content=' decisions that we can make, \\nwhich we', metadata={'source': 'MachineLearning-Lecture01.pdf', 'page': 11}),\n",
       " Document(page_content=\"'ll talk about later, which is, well,\", metadata={'source': 'MachineLearning-Lecture01.pdf', 'page': 11}),\n",
       " Document(page_content=\" what if I don' t wanna put a straight\", metadata={'source': 'MachineLearning-Lecture01.pdf', 'page': 11}),\n",
       " Document(page_content=' line? \\nMaybe I should put a quad', metadata={'source': 'MachineLearning-Lecture01.pdf', 'page': 11}),\n",
       " Document(page_content='ratic function to it. Ma ybe that', metadata={'source': 'MachineLearning-Lecture01.pdf', 'page': 11}),\n",
       " Document(page_content=' fits the data a little bit better. \\n', metadata={'source': 'MachineLearning-Lecture01.pdf', 'page': 11}),\n",
       " Document(page_content='You notice if you do that, the price of', metadata={'source': 'MachineLearning-Lecture01.pdf', 'page': 11}),\n",
       " Document(page_content=\" my house goes up a bit, so that'd\", metadata={'source': 'MachineLearning-Lecture01.pdf', 'page': 11}),\n",
       " Document(page_content=' be nice.  ', metadata={'source': 'MachineLearning-Lecture01.pdf', 'page': 11}),\n",
       " Document(page_content='And this sort of learning pr oblem of learning', metadata={'source': 'MachineLearning-Lecture01.pdf', 'page': 12}),\n",
       " Document(page_content=' to predict hous ing prices is an example of ', metadata={'source': 'MachineLearning-Lecture01.pdf', 'page': 12}),\n",
       " Document(page_content=\"\\nwhat's called a supervised learning problem. And\", metadata={'source': 'MachineLearning-Lecture01.pdf', 'page': 12}),\n",
       " Document(page_content=\" the reason that it's called supervised \\nlearning\", metadata={'source': 'MachineLearning-Lecture01.pdf', 'page': 12}),\n",
       " Document(page_content=\" is because we're providing the al gorithm\", metadata={'source': 'MachineLearning-Lecture01.pdf', 'page': 12}),\n",
       " Document(page_content=' a data set of a bunch of square \\n', metadata={'source': 'MachineLearning-Lecture01.pdf', 'page': 12}),\n",
       " Document(page_content='footages, a bunch of housing sizes, and', metadata={'source': 'MachineLearning-Lecture01.pdf', 'page': 12}),\n",
       " Document(page_content=' as well as sort of the right answer of what', metadata={'source': 'MachineLearning-Lecture01.pdf', 'page': 12}),\n",
       " Document(page_content=' the \\nactual prices of a number  of', metadata={'source': 'MachineLearning-Lecture01.pdf', 'page': 12}),\n",
       " Document(page_content=' houses were, right?  \\nSo we', metadata={'source': 'MachineLearning-Lecture01.pdf', 'page': 12}),\n",
       " Document(page_content=\" call this supervised learning because we're supervising the\", metadata={'source': 'MachineLearning-Lecture01.pdf', 'page': 12}),\n",
       " Document(page_content=' algorithm or, in other \\nwords, we', metadata={'source': 'MachineLearning-Lecture01.pdf', 'page': 12}),\n",
       " Document(page_content=\"'re giving the algorithm the, quote,  right\", metadata={'source': 'MachineLearning-Lecture01.pdf', 'page': 12}),\n",
       " Document(page_content=' answer for a number of houses. And \\n', metadata={'source': 'MachineLearning-Lecture01.pdf', 'page': 12}),\n",
       " Document(page_content='then we want the algorithm to learn the a ss', metadata={'source': 'MachineLearning-Lecture01.pdf', 'page': 12}),\n",
       " Document(page_content='ociation between the inputs and the outputs \\nand', metadata={'source': 'MachineLearning-Lecture01.pdf', 'page': 12}),\n",
       " Document(page_content=' to sort of give us more of the right answers', metadata={'source': 'MachineLearning-Lecture01.pdf', 'page': 12}),\n",
       " Document(page_content=', okay?  \\nIt turns out this', metadata={'source': 'MachineLearning-Lecture01.pdf', 'page': 12}),\n",
       " Document(page_content=' specific exam ple that I drew here is an example', metadata={'source': 'MachineLearning-Lecture01.pdf', 'page': 12}),\n",
       " Document(page_content=' of something called a \\nregression problem.', metadata={'source': 'MachineLearning-Lecture01.pdf', 'page': 12}),\n",
       " Document(page_content=' And the term regression sort of refers to the fact', metadata={'source': 'MachineLearning-Lecture01.pdf', 'page': 12}),\n",
       " Document(page_content=\" that the variable \\nyou're trying to predict\", metadata={'source': 'MachineLearning-Lecture01.pdf', 'page': 12}),\n",
       " Document(page_content=' is a continuous value and price.  \\n', metadata={'source': 'MachineLearning-Lecture01.pdf', 'page': 12}),\n",
       " Document(page_content=\"There's another class of supervised learning problems which we\", metadata={'source': 'MachineLearning-Lecture01.pdf', 'page': 12}),\n",
       " Document(page_content=\"'ll talk about, which are \\nclassification\", metadata={'source': 'MachineLearning-Lecture01.pdf', 'page': 12}),\n",
       " Document(page_content=' problems. And so, in a classifi c', metadata={'source': 'MachineLearning-Lecture01.pdf', 'page': 12}),\n",
       " Document(page_content=\"ation problem, the variab le you're trying\", metadata={'source': 'MachineLearning-Lecture01.pdf', 'page': 12}),\n",
       " Document(page_content=' to \\npredict is discreet rather than continuous', metadata={'source': 'MachineLearning-Lecture01.pdf', 'page': 12}),\n",
       " Document(page_content=' . So as one specific example — so actually a', metadata={'source': 'MachineLearning-Lecture01.pdf', 'page': 12}),\n",
       " Document(page_content=' \\nstandard data set you can download online [', metadata={'source': 'MachineLearning-Lecture01.pdf', 'page': 12}),\n",
       " Document(page_content='i naudible] that lots of machine learning', metadata={'source': 'MachineLearning-Lecture01.pdf', 'page': 12}),\n",
       " Document(page_content=\" \\npeople have played with. Let's say\", metadata={'source': 'MachineLearning-Lecture01.pdf', 'page': 12}),\n",
       " Document(page_content=' you collect  a data set on breast cancer tumors', metadata={'source': 'MachineLearning-Lecture01.pdf', 'page': 12}),\n",
       " Document(page_content=', and you \\nwant to learn the algorithm', metadata={'source': 'MachineLearning-Lecture01.pdf', 'page': 12}),\n",
       " Document(page_content=' to predict wh ether or not a certai n', metadata={'source': 'MachineLearning-Lecture01.pdf', 'page': 12}),\n",
       " Document(page_content=' tumor is malignant. \\nMalignant is', metadata={'source': 'MachineLearning-Lecture01.pdf', 'page': 12}),\n",
       " Document(page_content=' the opposite of benign, right, so ma l', metadata={'source': 'MachineLearning-Lecture01.pdf', 'page': 12}),\n",
       " Document(page_content='ignancy is a sort of harmful, bad tumor', metadata={'source': 'MachineLearning-Lecture01.pdf', 'page': 12}),\n",
       " Document(page_content='. \\nSo we collect some number of features', metadata={'source': 'MachineLearning-Lecture01.pdf', 'page': 12}),\n",
       " Document(page_content=', some  number of properties of these tumors,', metadata={'source': 'MachineLearning-Lecture01.pdf', 'page': 12}),\n",
       " Document(page_content=' and \\nfor the sake of sort of having', metadata={'source': 'MachineLearning-Lecture01.pdf', 'page': 12}),\n",
       " Document(page_content=' a simple [inaudi ble] explanation, let', metadata={'source': 'MachineLearning-Lecture01.pdf', 'page': 12}),\n",
       " Document(page_content=\"'s just say that we're \\ngoing to\", metadata={'source': 'MachineLearning-Lecture01.pdf', 'page': 12}),\n",
       " Document(page_content=' look at the size of the tumor and depe', metadata={'source': 'MachineLearning-Lecture01.pdf', 'page': 12}),\n",
       " Document(page_content=' nding on the size of the tumor, we', metadata={'source': 'MachineLearning-Lecture01.pdf', 'page': 12}),\n",
       " Document(page_content=\"'ll try to \\nfigure out whether or not\", metadata={'source': 'MachineLearning-Lecture01.pdf', 'page': 12}),\n",
       " Document(page_content=' the tu mor is malignant or benign. ', metadata={'source': 'MachineLearning-Lecture01.pdf', 'page': 12}),\n",
       " Document(page_content=' \\nSo the tumor is either malignant or', metadata={'source': 'MachineLearning-Lecture01.pdf', 'page': 12}),\n",
       " Document(page_content=' benign, and so  the variable in the Y', metadata={'source': 'MachineLearning-Lecture01.pdf', 'page': 12}),\n",
       " Document(page_content=' axis is either zero \\nor 1, and', metadata={'source': 'MachineLearning-Lecture01.pdf', 'page': 12}),\n",
       " Document(page_content=' so your data set ma y look something like that', metadata={'source': 'MachineLearning-Lecture01.pdf', 'page': 12}),\n",
       " Document(page_content=\", righ t? And that's 1 and\", metadata={'source': 'MachineLearning-Lecture01.pdf', 'page': 12}),\n",
       " Document(page_content=\" that's \\nzero, okay? And so\", metadata={'source': 'MachineLearning-Lecture01.pdf', 'page': 12}),\n",
       " Document(page_content=' this is an example of a classification problem where the', metadata={'source': 'MachineLearning-Lecture01.pdf', 'page': 12}),\n",
       " Document(page_content=\" variable \\nyou're trying to predict is a\", metadata={'source': 'MachineLearning-Lecture01.pdf', 'page': 12}),\n",
       " Document(page_content=\" discreet value. It 's either zero or 1\", metadata={'source': 'MachineLearning-Lecture01.pdf', 'page': 12}),\n",
       " Document(page_content='.  \\nAnd in fact, more generally', metadata={'source': 'MachineLearning-Lecture01.pdf', 'page': 12}),\n",
       " Document(page_content=\", there will be many learning problems where we'll\", metadata={'source': 'MachineLearning-Lecture01.pdf', 'page': 12}),\n",
       " Document(page_content=' have more \\nthan one input variable, more', metadata={'source': 'MachineLearning-Lecture01.pdf', 'page': 12}),\n",
       " Document(page_content=' than one input f eature and use more than', metadata={'source': 'MachineLearning-Lecture01.pdf', 'page': 12}),\n",
       " Document(page_content=' one variable to try \\nto predict, say', metadata={'source': 'MachineLearning-Lecture01.pdf', 'page': 12}),\n",
       " Document(page_content=', whether a tumor is malignant  or benign', metadata={'source': 'MachineLearning-Lecture01.pdf', 'page': 12}),\n",
       " Document(page_content='. So, for example, continuing with \\n', metadata={'source': 'MachineLearning-Lecture01.pdf', 'page': 12}),\n",
       " Document(page_content='this, you may instead have a data  set', metadata={'source': 'MachineLearning-Lecture01.pdf', 'page': 12}),\n",
       " Document(page_content=\" that looks like this. I'm gonna part this\", metadata={'source': 'MachineLearning-Lecture01.pdf', 'page': 12}),\n",
       " Document(page_content=' data set in a \\nslightly different way', metadata={'source': 'MachineLearning-Lecture01.pdf', 'page': 12}),\n",
       " Document(page_content=\" now. And I'm making this  data set\", metadata={'source': 'MachineLearning-Lecture01.pdf', 'page': 12}),\n",
       " Document(page_content=' look much cleaner than it really \\nis in', metadata={'source': 'MachineLearning-Lecture01.pdf', 'page': 12}),\n",
       " Document(page_content=' reality for illustration, okay?  \\nFor', metadata={'source': 'MachineLearning-Lecture01.pdf', 'page': 12}),\n",
       " Document(page_content=' example, maybe the crosses indicate ma lignant tumors', metadata={'source': 'MachineLearning-Lecture01.pdf', 'page': 12}),\n",
       " Document(page_content=' and the \"O\"s may indicate \\n', metadata={'source': 'MachineLearning-Lecture01.pdf', 'page': 12}),\n",
       " Document(page_content='benign tumors. And so you may have a', metadata={'source': 'MachineLearning-Lecture01.pdf', 'page': 12}),\n",
       " Document(page_content=' data se t comprising patients of  different ages and', metadata={'source': 'MachineLearning-Lecture01.pdf', 'page': 12}),\n",
       " Document(page_content=' \\nwho have different tumor sizes and where a', metadata={'source': 'MachineLearning-Lecture01.pdf', 'page': 12}),\n",
       " Document(page_content=' cross indicates a mali gnant tumor, and', metadata={'source': 'MachineLearning-Lecture01.pdf', 'page': 12}),\n",
       " Document(page_content=' an \\n\"O\" indicates a benign tumor', metadata={'source': 'MachineLearning-Lecture01.pdf', 'page': 12}),\n",
       " Document(page_content='. And you may want  an algorithm to learn', metadata={'source': 'MachineLearning-Lecture01.pdf', 'page': 12}),\n",
       " Document(page_content=' to predict, given a \\nnew patient,', metadata={'source': 'MachineLearning-Lecture01.pdf', 'page': 12}),\n",
       " Document(page_content=' whether their tumo r is malignant or benign', metadata={'source': 'MachineLearning-Lecture01.pdf', 'page': 12}),\n",
       " Document(page_content='.  ', metadata={'source': 'MachineLearning-Lecture01.pdf', 'page': 12}),\n",
       " Document(page_content='So, for example, what a learning algorithm ma', metadata={'source': 'MachineLearning-Lecture01.pdf', 'page': 13}),\n",
       " Document(page_content=' y do is maybe come in and decide that a', metadata={'source': 'MachineLearning-Lecture01.pdf', 'page': 13}),\n",
       " Document(page_content=' \\nstraight line like that separates the two classes', metadata={'source': 'MachineLearning-Lecture01.pdf', 'page': 13}),\n",
       " Document(page_content=' of tumors really well, and so if you have', metadata={'source': 'MachineLearning-Lecture01.pdf', 'page': 13}),\n",
       " Document(page_content=\" a \\nnew patient who's age and tumor\", metadata={'source': 'MachineLearning-Lecture01.pdf', 'page': 13}),\n",
       " Document(page_content=' size fall over there, then the algorithm may predict', metadata={'source': 'MachineLearning-Lecture01.pdf', 'page': 13}),\n",
       " Document(page_content=' that \\nthe tumor is benign rather than mal', metadata={'source': 'MachineLearning-Lecture01.pdf', 'page': 13}),\n",
       " Document(page_content='ignant, oka y? So this is just', metadata={'source': 'MachineLearning-Lecture01.pdf', 'page': 13}),\n",
       " Document(page_content=' another example of \\nanother supervised learning problem and', metadata={'source': 'MachineLearning-Lecture01.pdf', 'page': 13}),\n",
       " Document(page_content=' another classification problem.  \\nAnd so it', metadata={'source': 'MachineLearning-Lecture01.pdf', 'page': 13}),\n",
       " Document(page_content=\" turns out that one of the issues we' ll\", metadata={'source': 'MachineLearning-Lecture01.pdf', 'page': 13}),\n",
       " Document(page_content=' talk about later in this class is in this ', metadata={'source': 'MachineLearning-Lecture01.pdf', 'page': 13}),\n",
       " Document(page_content=\"\\nspecific example, we're going to try to\", metadata={'source': 'MachineLearning-Lecture01.pdf', 'page': 13}),\n",
       " Document(page_content=' predic t whether a tumor is malignant or benign', metadata={'source': 'MachineLearning-Lecture01.pdf', 'page': 13}),\n",
       " Document(page_content=' \\nbased on two features or based on two', metadata={'source': 'MachineLearning-Lecture01.pdf', 'page': 13}),\n",
       " Document(page_content=' inputs, namely the age of the patient and the', metadata={'source': 'MachineLearning-Lecture01.pdf', 'page': 13}),\n",
       " Document(page_content=' tumor \\nsize. It turns out that when', metadata={'source': 'MachineLearning-Lecture01.pdf', 'page': 13}),\n",
       " Document(page_content=' you look at a real  data set, you', metadata={'source': 'MachineLearning-Lecture01.pdf', 'page': 13}),\n",
       " Document(page_content=' find th at learning algorithms \\noften use other', metadata={'source': 'MachineLearning-Lecture01.pdf', 'page': 13}),\n",
       " Document(page_content=' sets of features . In the breast cancer data ex', metadata={'source': 'MachineLearning-Lecture01.pdf', 'page': 13}),\n",
       " Document(page_content=' ample, you also use properties \\nof the', metadata={'source': 'MachineLearning-Lecture01.pdf', 'page': 13}),\n",
       " Document(page_content=' tumors, like clump thic kness,', metadata={'source': 'MachineLearning-Lecture01.pdf', 'page': 13}),\n",
       " Document(page_content=' uniformity of cell size, uniformity of cell', metadata={'source': 'MachineLearning-Lecture01.pdf', 'page': 13}),\n",
       " Document(page_content=' shape, \\n[inaudible] ad', metadata={'source': 'MachineLearning-Lecture01.pdf', 'page': 13}),\n",
       " Document(page_content='hesion and so on, so va rious other', metadata={'source': 'MachineLearning-Lecture01.pdf', 'page': 13}),\n",
       " Document(page_content=' medical properties.  \\nAnd one of the', metadata={'source': 'MachineLearning-Lecture01.pdf', 'page': 13}),\n",
       " Document(page_content=\" most interesting things we'll ta lk about later\", metadata={'source': 'MachineLearning-Lecture01.pdf', 'page': 13}),\n",
       " Document(page_content=' this quarter is what if your \\ndata doesn', metadata={'source': 'MachineLearning-Lecture01.pdf', 'page': 13}),\n",
       " Document(page_content=\"'t lie in a two-dimensional or th re\", metadata={'source': 'MachineLearning-Lecture01.pdf', 'page': 13}),\n",
       " Document(page_content='e-dimensional or sort of even a finite ', metadata={'source': 'MachineLearning-Lecture01.pdf', 'page': 13}),\n",
       " Document(page_content='\\ndimensional space, but is it possible — what', metadata={'source': 'MachineLearning-Lecture01.pdf', 'page': 13}),\n",
       " Document(page_content=' if your data actually lies in an infinite \\n', metadata={'source': 'MachineLearning-Lecture01.pdf', 'page': 13}),\n",
       " Document(page_content='dimensional space? Our plots here are two-d', metadata={'source': 'MachineLearning-Lecture01.pdf', 'page': 13}),\n",
       " Document(page_content=\"ime nsional space. I can't plot you\", metadata={'source': 'MachineLearning-Lecture01.pdf', 'page': 13}),\n",
       " Document(page_content=' an infinite \\ndimensional space, right? And', metadata={'source': 'MachineLearning-Lecture01.pdf', 'page': 13}),\n",
       " Document(page_content=' so it turns out that one of the most successful', metadata={'source': 'MachineLearning-Lecture01.pdf', 'page': 13}),\n",
       " Document(page_content=' classes of \\nmachine learning algorithms — some may', metadata={'source': 'MachineLearning-Lecture01.pdf', 'page': 13}),\n",
       " ...]"
      ]
     },
     "execution_count": 71,
     "metadata": {},
     "output_type": "execute_result"
    }
   ],
   "source": [
    "docs"
   ]
  },
  {
   "cell_type": "code",
   "execution_count": 61,
   "id": "1f81f167-995e-48ff-b8b5-1f5c37e046f1",
   "metadata": {},
   "outputs": [
    {
     "data": {
      "text/plain": [
       "{'source': 'MachineLearning-Lecture01.pdf', 'page': 0}"
      ]
     },
     "execution_count": 61,
     "metadata": {},
     "output_type": "execute_result"
    }
   ],
   "source": [
    "pages[0].metadata"
   ]
  },
  {
   "cell_type": "code",
   "execution_count": 78,
   "id": "e8ae7bf7-5f87-4824-b8fc-6d2324eced9a",
   "metadata": {},
   "outputs": [],
   "source": [
    "from langchain.document_loaders import NotionDirectoryLoader\n",
    "from langchain.text_splitter import MarkdownHeaderTextSplitter"
   ]
  },
  {
   "cell_type": "code",
   "execution_count": 84,
   "id": "a1ca35a3-03f1-449a-9b42-464438cbc702",
   "metadata": {},
   "outputs": [],
   "source": [
    "markdown_document = \"\"\"# Title\\n\\n \\\n",
    "## Chapter 1\\n\\n \\\n",
    "Hi this is Jim\\n\\n Hi this is Joe\\n\\n \\\n",
    "### Section \\n\\n \\\n",
    "Hi this is Lance \\n\\n \n",
    "## Chapter 2\\n\\n \\\n",
    "Hi this is Molly\"\"\""
   ]
  },
  {
   "cell_type": "code",
   "execution_count": 89,
   "id": "251717d8-0ce7-45b0-917b-1f2174be3903",
   "metadata": {},
   "outputs": [],
   "source": [
    "headers_to_split_on = [\n",
    "    (\"#\", \"Header 1\"),\n",
    "    (\"##\", \"Header 2\"),\n",
    "    (\"###\", \"Header 3\"),\n",
    "]"
   ]
  },
  {
   "cell_type": "code",
   "execution_count": 83,
   "id": "49c02466-0d5b-4771-ac92-15b32216a741",
   "metadata": {},
   "outputs": [],
   "source": [
    "markdown_splitter = MarkdownHeaderTextSplitter(\n",
    "    headers_to_split_on=headers_to_split_on\n",
    ")"
   ]
  },
  {
   "cell_type": "code",
   "execution_count": 85,
   "id": "3ed35f4e-2cbb-445e-95fd-c4d270cfe824",
   "metadata": {},
   "outputs": [],
   "source": [
    "md_header_splits = markdown_splitter.split_text(markdown_document)"
   ]
  },
  {
   "cell_type": "code",
   "execution_count": 88,
   "id": "8eea9119-6669-4e97-aa09-bb2ef02fb60d",
   "metadata": {},
   "outputs": [
    {
     "data": {
      "text/plain": [
       "[Document(page_content='Hi this is Jim  \\nHi this is Joe', metadata={'Header 1': 'Title', 'Header 2': 'Chapter 1'}),\n",
       " Document(page_content='Hi this is Lance', metadata={'Header 1': 'Title', 'Header 2': 'Chapter 1', 'Header 3': 'Section'}),\n",
       " Document(page_content='Hi this is Molly', metadata={'Header 1': 'Title', 'Header 2': 'Chapter 2'})]"
      ]
     },
     "execution_count": 88,
     "metadata": {},
     "output_type": "execute_result"
    }
   ],
   "source": [
    "md_header_splits"
   ]
  },
  {
   "cell_type": "code",
   "execution_count": 91,
   "id": "756f9c4f-e959-4f62-94d9-10c17e7bd4cb",
   "metadata": {},
   "outputs": [],
   "source": [
    "loader = NotionDirectoryLoader(\"docs\")\n",
    "docs = loader.load()\n"
   ]
  },
  {
   "cell_type": "code",
   "execution_count": null,
   "id": "683dd525-4e35-4cc6-8942-a207fcf83e6b",
   "metadata": {},
   "outputs": [],
   "source": []
  }
 ],
 "metadata": {
  "kernelspec": {
   "display_name": "Python 3 (ipykernel)",
   "language": "python",
   "name": "python3"
  },
  "language_info": {
   "codemirror_mode": {
    "name": "ipython",
    "version": 3
   },
   "file_extension": ".py",
   "mimetype": "text/x-python",
   "name": "python",
   "nbconvert_exporter": "python",
   "pygments_lexer": "ipython3",
   "version": "3.9.19"
  }
 },
 "nbformat": 4,
 "nbformat_minor": 5
}
